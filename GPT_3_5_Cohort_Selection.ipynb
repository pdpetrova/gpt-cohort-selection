{
  "cells": [
    {
      "cell_type": "markdown",
      "source": [
        "**В данном ноутбуке представлен процесс подбора промптов для задачи когортного отбора пациентов для клинических исследований с результатами работы получившихся моделей.**\n",
        "\n",
        "Петрова П.Д."
      ],
      "metadata": {
        "id": "upS6KW67tns1"
      }
    },
    {
      "cell_type": "markdown",
      "metadata": {
        "id": "zhz4kEchLYWl"
      },
      "source": [
        "# Prerequisites"
      ]
    },
    {
      "cell_type": "code",
      "execution_count": null,
      "metadata": {
        "colab": {
          "base_uri": "https://localhost:8080/"
        },
        "id": "J5ZF28Vlz0Vf",
        "outputId": "41d2c406-ae66-4eb8-a067-a04a662fbff9"
      },
      "outputs": [
        {
          "output_type": "stream",
          "name": "stdout",
          "text": [
            "Looking in indexes: https://pypi.org/simple, https://us-python.pkg.dev/colab-wheels/public/simple/\n",
            "Collecting langchain\n",
            "  Downloading langchain-0.0.175-py3-none-any.whl (872 kB)\n",
            "\u001b[2K     \u001b[90m━━━━━━━━━━━━━━━━━━━━━━━━━━━━━━━━━━━━━━\u001b[0m \u001b[32m872.8/872.8 kB\u001b[0m \u001b[31m11.9 MB/s\u001b[0m eta \u001b[36m0:00:00\u001b[0m\n",
            "\u001b[?25hRequirement already satisfied: PyYAML>=5.4.1 in /usr/local/lib/python3.10/dist-packages (from langchain) (6.0)\n",
            "Requirement already satisfied: SQLAlchemy<3,>=1.4 in /usr/local/lib/python3.10/dist-packages (from langchain) (2.0.10)\n",
            "Collecting aiohttp<4.0.0,>=3.8.3 (from langchain)\n",
            "  Downloading aiohttp-3.8.4-cp310-cp310-manylinux_2_17_x86_64.manylinux2014_x86_64.whl (1.0 MB)\n",
            "\u001b[2K     \u001b[90m━━━━━━━━━━━━━━━━━━━━━━━━━━━━━━━━━━━━━━━━\u001b[0m \u001b[32m1.0/1.0 MB\u001b[0m \u001b[31m38.6 MB/s\u001b[0m eta \u001b[36m0:00:00\u001b[0m\n",
            "\u001b[?25hCollecting async-timeout<5.0.0,>=4.0.0 (from langchain)\n",
            "  Downloading async_timeout-4.0.2-py3-none-any.whl (5.8 kB)\n",
            "Collecting dataclasses-json<0.6.0,>=0.5.7 (from langchain)\n",
            "  Downloading dataclasses_json-0.5.7-py3-none-any.whl (25 kB)\n",
            "Requirement already satisfied: numexpr<3.0.0,>=2.8.4 in /usr/local/lib/python3.10/dist-packages (from langchain) (2.8.4)\n",
            "Requirement already satisfied: numpy<2,>=1 in /usr/local/lib/python3.10/dist-packages (from langchain) (1.22.4)\n",
            "Collecting openapi-schema-pydantic<2.0,>=1.2 (from langchain)\n",
            "  Downloading openapi_schema_pydantic-1.2.4-py3-none-any.whl (90 kB)\n",
            "\u001b[2K     \u001b[90m━━━━━━━━━━━━━━━━━━━━━━━━━━━━━━━━━━━━━━━━\u001b[0m \u001b[32m90.0/90.0 kB\u001b[0m \u001b[31m8.2 MB/s\u001b[0m eta \u001b[36m0:00:00\u001b[0m\n",
            "\u001b[?25hRequirement already satisfied: pydantic<2,>=1 in /usr/local/lib/python3.10/dist-packages (from langchain) (1.10.7)\n",
            "Requirement already satisfied: requests<3,>=2 in /usr/local/lib/python3.10/dist-packages (from langchain) (2.27.1)\n",
            "Requirement already satisfied: tenacity<9.0.0,>=8.1.0 in /usr/local/lib/python3.10/dist-packages (from langchain) (8.2.2)\n",
            "Requirement already satisfied: attrs>=17.3.0 in /usr/local/lib/python3.10/dist-packages (from aiohttp<4.0.0,>=3.8.3->langchain) (23.1.0)\n",
            "Requirement already satisfied: charset-normalizer<4.0,>=2.0 in /usr/local/lib/python3.10/dist-packages (from aiohttp<4.0.0,>=3.8.3->langchain) (2.0.12)\n",
            "Collecting multidict<7.0,>=4.5 (from aiohttp<4.0.0,>=3.8.3->langchain)\n",
            "  Downloading multidict-6.0.4-cp310-cp310-manylinux_2_17_x86_64.manylinux2014_x86_64.whl (114 kB)\n",
            "\u001b[2K     \u001b[90m━━━━━━━━━━━━━━━━━━━━━━━━━━━━━━━━━━━━━━\u001b[0m \u001b[32m114.5/114.5 kB\u001b[0m \u001b[31m11.9 MB/s\u001b[0m eta \u001b[36m0:00:00\u001b[0m\n",
            "\u001b[?25hCollecting yarl<2.0,>=1.0 (from aiohttp<4.0.0,>=3.8.3->langchain)\n",
            "  Downloading yarl-1.9.2-cp310-cp310-manylinux_2_17_x86_64.manylinux2014_x86_64.whl (268 kB)\n",
            "\u001b[2K     \u001b[90m━━━━━━━━━━━━━━━━━━━━━━━━━━━━━━━━━━━━━━\u001b[0m \u001b[32m268.8/268.8 kB\u001b[0m \u001b[31m13.5 MB/s\u001b[0m eta \u001b[36m0:00:00\u001b[0m\n",
            "\u001b[?25hCollecting frozenlist>=1.1.1 (from aiohttp<4.0.0,>=3.8.3->langchain)\n",
            "  Downloading frozenlist-1.3.3-cp310-cp310-manylinux_2_5_x86_64.manylinux1_x86_64.manylinux_2_17_x86_64.manylinux2014_x86_64.whl (149 kB)\n",
            "\u001b[2K     \u001b[90m━━━━━━━━━━━━━━━━━━━━━━━━━━━━━━━━━━━━━━\u001b[0m \u001b[32m149.6/149.6 kB\u001b[0m \u001b[31m12.8 MB/s\u001b[0m eta \u001b[36m0:00:00\u001b[0m\n",
            "\u001b[?25hCollecting aiosignal>=1.1.2 (from aiohttp<4.0.0,>=3.8.3->langchain)\n",
            "  Downloading aiosignal-1.3.1-py3-none-any.whl (7.6 kB)\n",
            "Collecting marshmallow<4.0.0,>=3.3.0 (from dataclasses-json<0.6.0,>=0.5.7->langchain)\n",
            "  Downloading marshmallow-3.19.0-py3-none-any.whl (49 kB)\n",
            "\u001b[2K     \u001b[90m━━━━━━━━━━━━━━━━━━━━━━━━━━━━━━━━━━━━━━━━\u001b[0m \u001b[32m49.1/49.1 kB\u001b[0m \u001b[31m4.4 MB/s\u001b[0m eta \u001b[36m0:00:00\u001b[0m\n",
            "\u001b[?25hCollecting marshmallow-enum<2.0.0,>=1.5.1 (from dataclasses-json<0.6.0,>=0.5.7->langchain)\n",
            "  Downloading marshmallow_enum-1.5.1-py2.py3-none-any.whl (4.2 kB)\n",
            "Collecting typing-inspect>=0.4.0 (from dataclasses-json<0.6.0,>=0.5.7->langchain)\n",
            "  Downloading typing_inspect-0.8.0-py3-none-any.whl (8.7 kB)\n",
            "Requirement already satisfied: typing-extensions>=4.2.0 in /usr/local/lib/python3.10/dist-packages (from pydantic<2,>=1->langchain) (4.5.0)\n",
            "Requirement already satisfied: urllib3<1.27,>=1.21.1 in /usr/local/lib/python3.10/dist-packages (from requests<3,>=2->langchain) (1.26.15)\n",
            "Requirement already satisfied: certifi>=2017.4.17 in /usr/local/lib/python3.10/dist-packages (from requests<3,>=2->langchain) (2022.12.7)\n",
            "Requirement already satisfied: idna<4,>=2.5 in /usr/local/lib/python3.10/dist-packages (from requests<3,>=2->langchain) (3.4)\n",
            "Requirement already satisfied: greenlet!=0.4.17 in /usr/local/lib/python3.10/dist-packages (from SQLAlchemy<3,>=1.4->langchain) (2.0.2)\n",
            "Requirement already satisfied: packaging>=17.0 in /usr/local/lib/python3.10/dist-packages (from marshmallow<4.0.0,>=3.3.0->dataclasses-json<0.6.0,>=0.5.7->langchain) (23.1)\n",
            "Collecting mypy-extensions>=0.3.0 (from typing-inspect>=0.4.0->dataclasses-json<0.6.0,>=0.5.7->langchain)\n",
            "  Downloading mypy_extensions-1.0.0-py3-none-any.whl (4.7 kB)\n",
            "Installing collected packages: mypy-extensions, multidict, marshmallow, frozenlist, async-timeout, yarl, typing-inspect, openapi-schema-pydantic, marshmallow-enum, aiosignal, dataclasses-json, aiohttp, langchain\n",
            "Successfully installed aiohttp-3.8.4 aiosignal-1.3.1 async-timeout-4.0.2 dataclasses-json-0.5.7 frozenlist-1.3.3 langchain-0.0.175 marshmallow-3.19.0 marshmallow-enum-1.5.1 multidict-6.0.4 mypy-extensions-1.0.0 openapi-schema-pydantic-1.2.4 typing-inspect-0.8.0 yarl-1.9.2\n"
          ]
        }
      ],
      "source": [
        "!pip install langchain"
      ]
    },
    {
      "cell_type": "code",
      "execution_count": null,
      "metadata": {
        "colab": {
          "base_uri": "https://localhost:8080/"
        },
        "id": "fNB6CJYlEFbV",
        "outputId": "83abaaa3-cc60-4c42-c6fe-6e4b5938ecd0"
      },
      "outputs": [
        {
          "output_type": "stream",
          "name": "stdout",
          "text": [
            "Looking in indexes: https://pypi.org/simple, https://us-python.pkg.dev/colab-wheels/public/simple/\n",
            "Collecting openai\n",
            "  Downloading openai-0.27.7-py3-none-any.whl (71 kB)\n",
            "\u001b[2K     \u001b[90m━━━━━━━━━━━━━━━━━━━━━━━━━━━━━━━━━━━━━━━━\u001b[0m \u001b[32m72.0/72.0 kB\u001b[0m \u001b[31m2.4 MB/s\u001b[0m eta \u001b[36m0:00:00\u001b[0m\n",
            "\u001b[?25hRequirement already satisfied: requests>=2.20 in /usr/local/lib/python3.10/dist-packages (from openai) (2.27.1)\n",
            "Requirement already satisfied: tqdm in /usr/local/lib/python3.10/dist-packages (from openai) (4.65.0)\n",
            "Requirement already satisfied: aiohttp in /usr/local/lib/python3.10/dist-packages (from openai) (3.8.4)\n",
            "Requirement already satisfied: urllib3<1.27,>=1.21.1 in /usr/local/lib/python3.10/dist-packages (from requests>=2.20->openai) (1.26.15)\n",
            "Requirement already satisfied: certifi>=2017.4.17 in /usr/local/lib/python3.10/dist-packages (from requests>=2.20->openai) (2022.12.7)\n",
            "Requirement already satisfied: charset-normalizer~=2.0.0 in /usr/local/lib/python3.10/dist-packages (from requests>=2.20->openai) (2.0.12)\n",
            "Requirement already satisfied: idna<4,>=2.5 in /usr/local/lib/python3.10/dist-packages (from requests>=2.20->openai) (3.4)\n",
            "Requirement already satisfied: attrs>=17.3.0 in /usr/local/lib/python3.10/dist-packages (from aiohttp->openai) (23.1.0)\n",
            "Requirement already satisfied: multidict<7.0,>=4.5 in /usr/local/lib/python3.10/dist-packages (from aiohttp->openai) (6.0.4)\n",
            "Requirement already satisfied: async-timeout<5.0,>=4.0.0a3 in /usr/local/lib/python3.10/dist-packages (from aiohttp->openai) (4.0.2)\n",
            "Requirement already satisfied: yarl<2.0,>=1.0 in /usr/local/lib/python3.10/dist-packages (from aiohttp->openai) (1.9.2)\n",
            "Requirement already satisfied: frozenlist>=1.1.1 in /usr/local/lib/python3.10/dist-packages (from aiohttp->openai) (1.3.3)\n",
            "Requirement already satisfied: aiosignal>=1.1.2 in /usr/local/lib/python3.10/dist-packages (from aiohttp->openai) (1.3.1)\n",
            "Installing collected packages: openai\n",
            "Successfully installed openai-0.27.7\n"
          ]
        }
      ],
      "source": [
        "!pip install openai"
      ]
    },
    {
      "cell_type": "code",
      "execution_count": null,
      "metadata": {
        "id": "EKxJz2Fxb2jJ"
      },
      "outputs": [],
      "source": [
        "from langchain.embeddings.openai import OpenAIEmbeddings\n",
        "from langchain.text_splitter import CharacterTextSplitter\n",
        "from langchain.vectorstores import Chroma\n",
        "from langchain.docstore.document import Document\n",
        "from langchain.prompts import PromptTemplate\n",
        "from langchain.indexes.vectorstore import VectorstoreIndexCreator\n",
        "from langchain.chat_models import ChatOpenAI\n",
        "from langchain.chains import LLMChain\n",
        "from langchain.chains import SequentialChain"
      ]
    },
    {
      "cell_type": "code",
      "execution_count": null,
      "metadata": {
        "id": "2JnD8yQZOGd4"
      },
      "outputs": [],
      "source": [
        "import pandas as pd\n",
        "from sklearn.metrics import confusion_matrix\n",
        "from sklearn.metrics import classification_report"
      ]
    },
    {
      "cell_type": "code",
      "execution_count": null,
      "metadata": {
        "id": "r2EzYMXOEHzU"
      },
      "outputs": [],
      "source": [
        "TOKEN = #необходимо добавить ключ OpenAI"
      ]
    },
    {
      "cell_type": "markdown",
      "metadata": {
        "id": "ctzgD8rtFYsp"
      },
      "source": [
        "# Прямой запрос"
      ]
    },
    {
      "cell_type": "markdown",
      "source": [
        "## Простой запрос\n",
        "В данном блоке тестируются простые запросы к модели на получение ответа ДА/НЕТ на вопрос, подходит ли пациент под указанные критерии.\n",
        "\n",
        "На вход модели модаются тексты критериев и медицинские записи. Тексты предварительно никак не изменяются."
      ],
      "metadata": {
        "id": "8rV6zDLWMkgN"
      }
    },
    {
      "cell_type": "markdown",
      "source": [
        "Промпт прямого вопроса к языковой модели:"
      ],
      "metadata": {
        "id": "KYv1Lx1IN7Ap"
      }
    },
    {
      "cell_type": "code",
      "execution_count": null,
      "metadata": {
        "id": "RNzGgIrMQL7z"
      },
      "outputs": [],
      "source": [
        "strict_forward = \"\"\"Read the clinical trial criteria provided below. After that, decide by the patient's medical record if the patient is suitable for the trial. Answer YES or NO only.  \n",
        "\n",
        "\n",
        "Clinical Trial Criteria: {trial}\n",
        "\n",
        "\n",
        "Medical Record: {record}\n",
        "\n",
        "\n",
        "Answer:\"\"\"\n",
        "\n",
        "PROMPT = PromptTemplate(\n",
        "    template=strict_forward, input_variables=[\"trial\", \"record\"]\n",
        ")"
      ]
    },
    {
      "cell_type": "markdown",
      "source": [
        "Промпт прямого вопроса с просьбой объяснить причину выбора ответа:"
      ],
      "metadata": {
        "id": "UhqQGpiGN_tG"
      }
    },
    {
      "cell_type": "code",
      "execution_count": null,
      "metadata": {
        "id": "LWIHZJsgZ5eX"
      },
      "outputs": [],
      "source": [
        "strict_forward2 = \"\"\"Read the clinical trial criteria provided below. After that decide by the patient medical record if the patient is suitable for the trial. Answer with YES or NO and explain why.  \n",
        "\n",
        "Clinical Trial Criteria: {trial}\n",
        "\n",
        "Medical Record: {record}\n",
        "\n",
        "Answer:\"\"\"\n",
        "PROMPT2 = PromptTemplate(\n",
        "    template=strict_forward2, input_variables=[\"trial\", \"record\"])"
      ]
    },
    {
      "cell_type": "markdown",
      "source": [
        "Модель chain для ответа только на YES/NO.\n",
        "\n",
        "Параметры: max_tokens = 1 для ответа одним токеном (только YES/NO); temperature = 0 для избежания случайных результатов."
      ],
      "metadata": {
        "id": "Diwx0dXbOmI-"
      }
    },
    {
      "cell_type": "code",
      "execution_count": null,
      "metadata": {
        "id": "_zkzQx4jSi3V"
      },
      "outputs": [],
      "source": [
        "llm = ChatOpenAI(openai_api_key=TOKEN, model_name=\"gpt-3.5-turbo\", max_tokens=1, temperature=0)\n",
        "chain = LLMChain(llm=llm, prompt=PROMPT)"
      ]
    },
    {
      "cell_type": "markdown",
      "source": [
        "Модель chain2 для ответа на YES/NO с объяснением ответа.\n",
        "\n",
        "Параметры: max_tokens = 100 для развернутого ответа; n = 2 для выбора лучшего результата из двух предсказанных."
      ],
      "metadata": {
        "id": "_vlggOEVO9gz"
      }
    },
    {
      "cell_type": "code",
      "execution_count": null,
      "metadata": {
        "id": "cdoLC-VpaAaN"
      },
      "outputs": [],
      "source": [
        "llm2 = ChatOpenAI(openai_api_key=TOKEN, model_name=\"gpt-3.5-turbo\", max_tokens=100, n=2)\n",
        "chain2 = LLMChain(llm=llm2, prompt=PROMPT2)"
      ]
    },
    {
      "cell_type": "markdown",
      "source": [
        "Пробные данные критерии-запись для подбора формулировки промпта:"
      ],
      "metadata": {
        "id": "6RQ2qGh5PMKk"
      }
    },
    {
      "cell_type": "code",
      "execution_count": null,
      "metadata": {
        "id": "bxZo-dt6SoPF"
      },
      "outputs": [],
      "source": [
        "med_trial = '''DISEASE CHARACTERISTICS: Prior or current diagnosis of any pediatric cancer Current chemoradiotherapy (at least 2 months since start of therapy) OR At least 1 year since prior treatment and in remission PATIENT CHARACTERISTICS: Age: 8 to 20 Performance status: Not specified Life expectancy: Not specified Hematopoietic: Not specified Hepatic: Not specified Renal: Not specified PRIOR CONCURRENT THERAPY: Biologic therapy: Not specified Chemotherapy: See Disease Characteristics Endocrine therapy: Not specified Radiotherapy: See Disease Characteristics Surgery: Not specified\n",
        "'''\n",
        "med_record = '''HISTORY: , The patient is a 15-year-old female who was seen in consultation at the request of Dr. X on 05/15/2008 regarding enlarged tonsils. The patient has been having difficult time with having two to three bouts of tonsillitis this year. She does average about four bouts of tonsillitis per year for the past several years. She notes that throat pain and fever with the actual infections. She is having no difficulty with swallowing. She does have loud snoring, though there have been no witnessed observed sleep apnea episodes. She is a mouth breather at nighttime, however. The patient does feel that she has a cold at today's visit. She has had tonsil problems again for many years. She does note a history of intermittent hoarseness as well. This is particularly prominent with the current cold that she has had. She had been seen by Dr. Y in Muskegon who had also recommended a tonsillectomy, but she reports she would like to get the surgery done here in the Ludington area as this is much closer to home. For the two tonsillitis, she is on antibiotics again on an average about four times per year. They do seem to help with the infections, but they tend to continue to recur. The patient presents today for further workup, evaluation, and treatment of the above-listed symptoms.,REVIEW OF SYSTEMS:,ALLERGY/IMMUNOLOGIC: Negative.,CARDIOVASCULAR: Negative.,PULMONARY: Negative.,GASTROINTESTINAL: Negative.,GENITOURINARY: Negative.,NEUROLOGIC: Negative.,VISUAL: Negative.,DERMATOLOGIC: Negative.,ENDOCRINE: Negative.,MUSCULOSKELETAL: Negative.,CONSTITUTIONAL: Negative.,PAST SURGICAL HISTORY: , Pertinent for previous cholecystectomy.,FAMILY HISTORY:, No family history of bleeding disorder. She does have a sister with a current ear infection. There is a family history of cancer, diabetes, heart disease, and hypertension.,CURRENT MEDICATIONS: , None.,ALLERGIES: , She has no known drug allergies.,SOCIAL HISTORY: , The patient is single. She is a student. Denies tobacco or alcohol use.,PHYSICAL EXAMINATION: ,VITAL SIGNS: Pulse is 80 and regular, temperature 98.4, weight is 184 pounds.,GENERAL: The patient is an alert, cooperative, obese, 15-year-old female, with a normal-sounding voice and good memory.,HEAD & FACE: Inspected with no scars, lesions or masses noted. Sinuses palpated and are normal. Salivary glands also palpated and are normal with no masses noted. The patient also has full facial function.,CARDIOVASCULAR: Heart regular rate and rhythm without murmur.,RESPIRATORY: Lungs auscultated and noted to be clear to auscultation bilaterally with no wheezing or rubs and normal respiratory effort.,EYES: Extraocular muscles were tested and within normal limits.,EARS: The external ears are normal. The ear canals are clean and dry. The drums are intact and mobile. Hearing is grossly normal. Tuning fork examination with normal speech reception thresholds noted.,NASAL: She has clear drainage, large inferior turbinates, no erythema.,ORAL: Her tongue, lip, floor of mouth are noted to be normal. Oropharynx does reveal very large tonsils measuring 3+/4+; they were exophytic. Mirror examination of the larynx reveals some mild edema of the larynx at this time. The nasopharynx could not be visualized on mirror exam today.,NECK: Obese, supple. Trachea is midline. Thyroid is nonpalpable.,NEUROLOGIC: Cranial nerves II through XII evaluated and noted to be normal. Patient oriented times 3.,DERMATOLOGIC: Evaluation reveals no masses or lesions. Skin turgor is normal.,IMPRESSION: , ,1. Chronic adenotonsillitis with adenotonsillar hypertrophy.,2. Upper respiratory tract infection with mild acute laryngitis.,3. Obesity.,RECOMMENDATIONS: , We are going to go ahead and proceed with an adenotonsillectomy. All risks, benefits, and alternatives regarding the surgery have been reviewed in detail with the patient and her family. This includes risk of bleeding, infection, scarring, regrowth of the adenotonsillar tissue, need for further surgery, persistent sore throat, voice changes, etc. The parents are agreeable to the planned procedure, and we will schedule this accordingly at Memorial Medical Center here within the next few weeks. We will make further recommendations afterwards.'''"
      ]
    },
    {
      "cell_type": "code",
      "source": [
        "answer = chain.run({'trial': med_trial, 'record': med_record})\n",
        "print(answer)"
      ],
      "metadata": {
        "colab": {
          "base_uri": "https://localhost:8080/"
        },
        "id": "o-uyozcORMXc",
        "outputId": "78944468-f3bd-4e50-d7bf-988fd7bc7b9b"
      },
      "execution_count": null,
      "outputs": [
        {
          "output_type": "stream",
          "name": "stdout",
          "text": [
            "NO\n"
          ]
        }
      ]
    },
    {
      "cell_type": "markdown",
      "source": [
        "Второй блок пробных данных для подбора.\n",
        "\n",
        "Проверка объяснения выбор результата."
      ],
      "metadata": {
        "id": "9rtBg3VFrJ4r"
      }
    },
    {
      "cell_type": "code",
      "execution_count": null,
      "metadata": {
        "id": "MP3zqtc5UYpY"
      },
      "outputs": [],
      "source": [
        "med_trial2 = '''Physician diagnosis of asthma; moderate severity (1997 criteria), ie. >= 2 ED visits or 1\n",
        "        hospitalization in past year or prescribed daily asthma medication.\n",
        "gender All\n",
        "minimum_age 6 Years\n",
        "maximum_age 26 Years\n",
        "healthy_volunteers No\n",
        "'''\n",
        "med_record2 = '''SUBJECTIVE:,  This 23-year-old white female presents with complaint of allergies.  She used to have allergies when she lived in Seattle but she thinks they are worse here.  In the past, she has tried Claritin, and Zyrtec.  Both worked for short time but then seemed to lose effectiveness.  She has used Allegra also.  She used that last summer and she began using it again two weeks ago.  It does not appear to be working very well.  She has used over-the-counter sprays but no prescription nasal sprays.  She does have asthma but doest not require daily medication for this and does not think it is flaring up.,MEDICATIONS: , Her only medication currently is Ortho Tri-Cyclen and the Allegra.,ALLERGIES: , She has no known medicine allergies.,OBJECTIVE:,Vitals:  Weight was 130 pounds and blood pressure 124/78.,HEENT:  Her throat was mildly erythematous without exudate.  Nasal mucosa was erythematous and swollen.  Only clear drainage was seen.  TMs were clear.,Neck:  Supple without adenopathy.,Lungs:  Clear.,ASSESSMENT:,  Allergic rhinitis.,PLAN:,1.  She will try Zyrtec instead of Allegra again.  Another option will be to use loratadine.  She does not think she has prescription coverage so that might be cheaper.,2.  Samples of Nasonex two sprays in each nostril given for three weeks.  A prescription was written as well.'''"
      ]
    },
    {
      "cell_type": "code",
      "execution_count": null,
      "metadata": {
        "colab": {
          "base_uri": "https://localhost:8080/"
        },
        "id": "KR2S4ChxZaTd",
        "outputId": "3db85c11-2621-43ed-9d99-81702a154891"
      },
      "outputs": [
        {
          "output_type": "stream",
          "name": "stdout",
          "text": [
            "NO\n"
          ]
        }
      ],
      "source": [
        "print(chain.run({'trial': med_trial2, 'record': med_record2}))"
      ]
    },
    {
      "cell_type": "code",
      "execution_count": null,
      "metadata": {
        "colab": {
          "base_uri": "https://localhost:8080/"
        },
        "id": "xabqLsPwZcOJ",
        "outputId": "041c9d1e-fe68-4527-b5e7-da7dcc5be909"
      },
      "outputs": [
        {
          "name": "stdout",
          "output_type": "stream",
          "text": [
            "NO. The patient has asthma but does not require daily medication for it. The clinical trial criteria state that the patient must have a physician diagnosis of asthma and prescribed\n"
          ]
        }
      ],
      "source": [
        "print(chain2.run({'trial': med_trial2, 'record': med_record2}))"
      ]
    },
    {
      "cell_type": "markdown",
      "source": [
        "По медицинской записи понятно, что у пациентки есть астма (*She does have asthma*), поэтому по неполному объяснению модели не понятно, действительно ли он исключил пациентку по критерию отсутствия диагноза астмы."
      ],
      "metadata": {
        "id": "KFsMVsHusDLB"
      }
    },
    {
      "cell_type": "markdown",
      "source": [
        "Проверка чуть измененных критериев из прошлого примера и новой медицинской записи."
      ],
      "metadata": {
        "id": "VYN1qCTmr0lP"
      }
    },
    {
      "cell_type": "code",
      "execution_count": null,
      "metadata": {
        "id": "prPhZLVtbewR"
      },
      "outputs": [],
      "source": [
        "med_trial3 = '''Physician diagnosis of asthma; moderate severity, ie. >= 2 ED visits or 1\n",
        "        hospitalization in past year or prescribed asthma medication.\n",
        "gender All\n",
        "minimum_age 6 Years\n",
        "maximum_age 26 Years\n",
        "healthy volunteers: No\n",
        "'''"
      ]
    },
    {
      "cell_type": "code",
      "execution_count": null,
      "metadata": {
        "id": "VlWulKgDaFaO"
      },
      "outputs": [],
      "source": [
        "med_record3 = '''HISTORY OF PRESENT ILLNESS:,  The patient is a 17-year-old female, who presents to the emergency room with foreign body and airway compromise and was taken to the operating room.  She was intubated and fishbone.,PAST MEDICAL HISTORY: , Significant for diabetes, hypertension, asthma, cholecystectomy, and total hysterectomy and cataract.,ALLERGIES:  ,No known drug allergies.,\n",
        "CURRENT MEDICATIONS: , Prevacid, Humulin, Diprivan, Proventil, Unasyn, and Solu-Medrol.,FAMILY HISTORY: , Noncontributory.,SOCIAL HISTORY: , Negative for illicit drugs, alcohol, and tobacco.,PHYSICAL EXAMINATION:  ,Please see the hospital chart.,LABORATORY DATA: , Please see the hospital chart.,HOSPITAL COURSE: , The patient was taken to the operating room by Dr. X who is covering for ENT and noted that she had airway compromise and a rather large fishbone noted and that was removed.  The patient was intubated and it was felt that she should be observed to see if the airway would improve upon which she could be extubated.  If not she would require tracheostomy.  The patient was treated with IV antibiotics and ventilatory support and at the time of this dictation, she has recently been taken to the operating room where it was felt that the airway sufficient and she was extubated.  She was doing well with good p.o.s, good airway, good voice, and desiring to be discharged home.  So, the patient is being prepared for discharge at this point.  We will have Dr. X evaluate her before she leaves to make sure I do not have any problem with her going home.  Dr. Y feels she could be discharged today and will have her return to see him in a week.'''"
      ]
    },
    {
      "cell_type": "code",
      "execution_count": null,
      "metadata": {
        "colab": {
          "base_uri": "https://localhost:8080/"
        },
        "id": "qXd812tHaxbo",
        "outputId": "f5358456-9bc9-4473-8ad2-4a4a3907aaa3"
      },
      "outputs": [
        {
          "output_type": "stream",
          "name": "stdout",
          "text": [
            "NO. The patient has a physician diagnosis of asthma, but the severity is not specified in the medical record. There is also no mention of the patient having >= 2 ED visits or 1 hospitalization in the past year or being prescribed asthma medication, which are the criteria for moderate severity asthma. Additionally, the patient has a history of diabetes, hypertension, and other surgeries, indicating a complex medical history. Therefore, the patient is not suitable for the clinical trial.\n"
          ]
        }
      ],
      "source": [
        "print(chain2.run({'trial': med_trial3, 'record': med_record3}))"
      ]
    },
    {
      "cell_type": "markdown",
      "source": [
        "На самом же деле тяжесть астмы по критериям из текста исследования указана в медицинской записи. В списке принимаемых медикаментов указано лекарство Proventil. Проверим, знает ли модель показания для таких лекарств.\n",
        "\n",
        "Помимо этого в критериях не указаны такие исключающие факторы как диабет, высокое давление и прочие критерии, по которым модель исключила пациентку. Это может говорить о том, что модель додумывает новую информацию сверх указанной."
      ],
      "metadata": {
        "id": "2vYsvtgasl9a"
      }
    },
    {
      "cell_type": "code",
      "execution_count": null,
      "metadata": {
        "id": "3TkGNrlGdibp"
      },
      "outputs": [],
      "source": [
        "drug = 'Prevacid, Humulin, Diprivan, Proventil, Unasyn, and Solu-Medrol'"
      ]
    },
    {
      "cell_type": "code",
      "execution_count": null,
      "metadata": {
        "id": "nWxt04IMZ0jt"
      },
      "outputs": [],
      "source": [
        "llm3 = ChatOpenAI(openai_api_key=TOKEN, model_name=\"gpt-3.5-turbo\", max_tokens=100, n=2)"
      ]
    },
    {
      "cell_type": "code",
      "execution_count": null,
      "metadata": {
        "id": "4TnA60IGa0W-"
      },
      "outputs": [],
      "source": [
        "drug_question = \"\"\"For every drug in the list write for which diseases it is used: {drugs}.\n",
        "\n",
        "Answer:\"\"\"\n",
        "PROMPT3 = PromptTemplate(\n",
        "    template=drug_question, input_variables=['drugs'])\n",
        "chain3 = LLMChain(llm=llm3, prompt=PROMPT3)"
      ]
    },
    {
      "cell_type": "code",
      "execution_count": null,
      "metadata": {
        "colab": {
          "base_uri": "https://localhost:8080/"
        },
        "id": "mJVVOA2VfDLC",
        "outputId": "fc53821e-ae64-4782-d874-642869e3513b"
      },
      "outputs": [
        {
          "name": "stdout",
          "output_type": "stream",
          "text": [
            "Prevacid is used for acid reflux and ulcers, Humulin is used for diabetes, Diprivan is used for anesthesia during surgery, Proventil is used for asthma, Unasyn is used for bacterial infections, and Solu-Medrol is used for inflammation and autoimmune disorders.\n"
          ]
        }
      ],
      "source": [
        "print(chain3.run({'drugs': drug}))"
      ]
    },
    {
      "cell_type": "markdown",
      "metadata": {
        "id": "HkfMvXwcZ-Mr"
      },
      "source": [
        "То есть модель знает, какие лекарства для чего используются, но не учел это при анализе критериев исследования и анализе медицинской записи.\n",
        "\n",
        "Можно говорить о том, что модель плохо понимает и структурирует тексты в свободной форме."
      ]
    },
    {
      "cell_type": "markdown",
      "metadata": {
        "id": "hRC_iniwagxy"
      },
      "source": [
        "# Запрос по критериям"
      ]
    },
    {
      "cell_type": "markdown",
      "source": [
        "В данном блоке тестируются промпты для составления списков критериев для дальнейшего анализа каждого из критериев отдельно."
      ],
      "metadata": {
        "id": "uefKUDT8uPyy"
      }
    },
    {
      "cell_type": "code",
      "execution_count": null,
      "metadata": {
        "id": "OIAlBW0uai7D"
      },
      "outputs": [],
      "source": [
        "llm4 = ChatOpenAI(openai_api_key=TOKEN, model_name=\"gpt-3.5-turbo\", max_tokens=1500, n=2)"
      ]
    },
    {
      "cell_type": "code",
      "execution_count": null,
      "metadata": {
        "id": "nIMZpY6UhEJM"
      },
      "outputs": [],
      "source": [
        "criteria_question = \"\"\"List all criterias for the clinical trial. Then read the medical record.\n",
        "After each point of the criteria list write '-YES-' if the patient falls under this criteria, or write '-NO-' if the patiend does not fall under this criteria.  \n",
        "\n",
        "Clinical Trial: {trial}.\n",
        "\n",
        "Medical Record: {record}\n",
        "\n",
        "Answer:\"\"\"\n",
        "PROMPT4 = PromptTemplate(\n",
        "    template=criteria_question, input_variables=['trial', 'record'])\n",
        "chain4 = LLMChain(llm=llm4, prompt=PROMPT4)"
      ]
    },
    {
      "cell_type": "code",
      "execution_count": null,
      "metadata": {
        "id": "lVeTvpAY1hU-"
      },
      "outputs": [],
      "source": [
        "med_trial3 = '''Physician diagnosis of asthma; moderate severity, ie. >= 2 ED visits or 1\n",
        "        hospitalization in past year or prescribed daily asthma medication.\n",
        "gender All\n",
        "minimum_age 6 Years\n",
        "maximum_age 26 Years\n",
        "healthy volunteers: No\n",
        "'''"
      ]
    },
    {
      "cell_type": "code",
      "execution_count": null,
      "metadata": {
        "id": "PpTVsPwC1mdA"
      },
      "outputs": [],
      "source": [
        "med_record3 = '''HISTORY OF PRESENT ILLNESS:,  The patient is a 17-year-old female, who presents to the emergency room with foreign body and airway compromise and was taken to the operating room.  She was intubated and fishbone.,PAST MEDICAL HISTORY: , Significant for diabetes, hypertension, asthma, cholecystectomy, and total hysterectomy and cataract.,ALLERGIES:  ,No known drug allergies.,\n",
        "CURRENT MEDICATIONS: , Prevacid, Humulin, Diprivan, Proventil, Unasyn, and Solu-Medrol.,FAMILY HISTORY: , Noncontributory.,SOCIAL HISTORY: , Negative for illicit drugs, alcohol, and tobacco.,PHYSICAL EXAMINATION:  ,Please see the hospital chart.,LABORATORY DATA: , Please see the hospital chart.,HOSPITAL COURSE: , The patient was taken to the operating room by Dr. X who is covering for ENT and noted that she had airway compromise and a rather large fishbone noted and that was removed.  The patient was intubated and it was felt that she should be observed to see if the airway would improve upon which she could be extubated.  If not she would require tracheostomy.  The patient was treated with IV antibiotics and ventilatory support and at the time of this dictation, she has recently been taken to the operating room where it was felt that the airway sufficient and she was extubated.  She was doing well with good p.o.s, good airway, good voice, and desiring to be discharged home.  So, the patient is being prepared for discharge at this point.  We will have Dr. X evaluate her before she leaves to make sure I do not have any problem with her going home.  Dr. Y feels she could be discharged today and will have her return to see him in a week.'''"
      ]
    },
    {
      "cell_type": "code",
      "execution_count": null,
      "metadata": {
        "colab": {
          "base_uri": "https://localhost:8080/"
        },
        "id": "AKTZRGyyiNJw",
        "outputId": "9f247b6a-4c40-425c-cdd4-f595532b7de9"
      },
      "outputs": [
        {
          "name": "stdout",
          "output_type": "stream",
          "text": [
            "-YES- Physician diagnosis of asthma; moderate severity, ie. >= 2 ED visits or 1 hospitalization in past year or prescribed daily asthma medication.\n",
            "-YES- gender: All\n",
            "-NO- The patient is older than 26 years.\n",
            "-NO- healthy_volunteers: No (the patient has a medical history)\n"
          ]
        }
      ],
      "source": [
        "print(chain4.run({'trial': med_trial3, 'record': med_record3}))"
      ]
    },
    {
      "cell_type": "markdown",
      "metadata": {
        "id": "owML5yG4jmwi"
      },
      "source": [
        "Список критериев был составлен, а также были даны ответы согласно заданной форме. Однако ответы были даны до каждого из пунктов, а не после.\n",
        "\n",
        "С фактологической стороны ответы неправильные, так как пациентке 17 лет, а в критерии указано, что ей больше 26. То же самое и с пунктом про здоровых пациентов: неправильно задан ответ, так как для испытаний как раз не нужны здоровые пациенты."
      ]
    },
    {
      "cell_type": "markdown",
      "source": [
        "Немного переформулированный запрос на составление списка критериев и оценки каждого пункта на тех же данных."
      ],
      "metadata": {
        "id": "z_05MwEo16VJ"
      }
    },
    {
      "cell_type": "code",
      "execution_count": null,
      "metadata": {
        "id": "3cP3aA7Gj-6V"
      },
      "outputs": [],
      "source": [
        "llm5 = ChatOpenAI(openai_api_key=TOKEN, model_name=\"gpt-3.5-turbo\", max_tokens=1500, n=3)"
      ]
    },
    {
      "cell_type": "code",
      "execution_count": null,
      "metadata": {
        "id": "j0aU485Bj8KJ"
      },
      "outputs": [],
      "source": [
        "criteria_question2 = \"\"\"List all criterias for the clinical trial.\n",
        "After each point of the list write '-YES-' if the patient falls under this criteria, or write '-NO-' if the patient does not fall under this criteria.  \n",
        "\n",
        "Clinical Trial: {trial}.\n",
        "\n",
        "Medical Record: {record}\n",
        "\n",
        "Answer:\"\"\"\n",
        "PROMPT5 = PromptTemplate(\n",
        "    template=criteria_question2, input_variables=['trial', 'record'])\n",
        "chain5 = LLMChain(llm=llm5, prompt=PROMPT5)"
      ]
    },
    {
      "cell_type": "code",
      "execution_count": null,
      "metadata": {
        "colab": {
          "base_uri": "https://localhost:8080/"
        },
        "id": "0SiZszpVjYYG",
        "outputId": "bac97124-ec7d-46c5-ce21-25a1a95b1aca"
      },
      "outputs": [
        {
          "name": "stdout",
          "output_type": "stream",
          "text": [
            "-YES- for physician diagnosis of asthma; moderate severity, ie. >= 2 ED visits or 1 hospitalization in past year or prescribed daily asthma medication.\n",
            "-NO- for gender (not specified in the medical record)\n",
            "-NO- for minimum age (patient is 17 years old)\n",
            "-NO- for maximum age (patient is 17 years old)\n",
            "-NO- for healthy volunteers (not applicable to the medical record)\n"
          ]
        }
      ],
      "source": [
        "print(chain5.run({'trial': med_trial3, 'record': med_record3}))"
      ]
    },
    {
      "cell_type": "markdown",
      "metadata": {
        "id": "qVDYFfxCkYQv"
      },
      "source": [
        "Гендер и возраст указаны в медицинской записи, но модель не может корректно распознать эти демографические данные пациента. Предположительно это связано с разницей понимания понятий гендер/пол, а непонимание диапазона возраста может быть связано с употреблением слов minimum/maximum age."
      ]
    },
    {
      "cell_type": "markdown",
      "source": [
        "Проверим способность модели составлять структурированные списки критериев без ответа на вопрос."
      ],
      "metadata": {
        "id": "SIdK35Xa2kwm"
      }
    },
    {
      "cell_type": "code",
      "execution_count": null,
      "metadata": {
        "id": "oHIowMHpkN-i"
      },
      "outputs": [],
      "source": [
        "criteria_question3 = \"\"\"List all criterias for the clinical trial.\n",
        "\n",
        "Clinical Trial: {trial}.\n",
        "\"\"\"\n",
        "PROMPT6 = PromptTemplate(\n",
        "    template=criteria_question3, input_variables=['trial'])\n",
        "chain6 = LLMChain(llm=llm5, prompt=PROMPT6)"
      ]
    },
    {
      "cell_type": "code",
      "execution_count": null,
      "metadata": {
        "colab": {
          "base_uri": "https://localhost:8080/"
        },
        "id": "a8-IrQyYkizR",
        "outputId": "3888e2fd-43e8-4466-ff4b-171a773e1f89"
      },
      "outputs": [
        {
          "name": "stdout",
          "output_type": "stream",
          "text": [
            "- Physician diagnosis of asthma\n",
            "- Moderate severity of asthma, defined as:\n",
            "  - >= 2 emergency department visits in the past year OR\n",
            "  - 1 hospitalization in the past year OR\n",
            "  - Prescribed daily asthma medication\n",
            "- All genders\n",
            "- Minimum age of 6 years\n",
            "- Maximum age of 26 years\n",
            "- Exclusion of healthy volunteers\n"
          ]
        }
      ],
      "source": [
        "print(chain6.run({'trial': med_trial3, 'record': med_record3}))"
      ]
    },
    {
      "cell_type": "markdown",
      "source": [
        "Модель способна формировать корректные списки критериев, и в отличие от предыдущих примеров, когда в промптах требовался ответ после каждого пункта, в данном ответе они выписаны в правильном понимании: тяжесть болезни перечислена критериями через союз ИЛИ; указано, что все гендеры допустимы для исследования: указано, что здоровые пациенты исключаются из исследования."
      ],
      "metadata": {
        "id": "iNdsF-KM2wsx"
      }
    },
    {
      "cell_type": "markdown",
      "source": [
        "Проверим возможность модели отвечать на общий вопрос о сопоставимости записи и критериев:\n",
        "\n",
        "Необходимо составить список критериев, оценить каждый ДА/НЕТ в зависимости от того, подходит ли пациент под критерий, и если все ответы ДА, то в итоге надо вывести один ДА. Если есть хотя бы один ответ НЕТ -- вывести НЕТ.\n",
        "\n",
        "Проверим такой промпт на новых данных."
      ],
      "metadata": {
        "id": "P-PxetDC3Ts6"
      }
    },
    {
      "cell_type": "code",
      "source": [
        "med_tr = '''Inclusion Criteria: Must meet one of the following criteria: - Overweight - Previous knee injury or surgery - Knee pain during the past year. Participants do not need to have current knee pain to take part in the study. - Parent or sibling who had knee replacement Exclusion Criteria: - Rheumatoid arthritis - Joint replacements in both knees - Unable to walk without assistance - Unable to undergo MRI of the knee'''\n",
        "med_rec = '''CHIEF COMPLAINT: , Left knee pain and stiffness.,HISTORY OF PRESENT ILLNESS: , The patient is a 57-year-old with severe bilateral knee DJD, left greater than right, with significant pain and limitations because of both.  He is able to walk approximately a 1/2-mile a day but is limited because of his knees.  Stairs are negotiated 1 at a time.  His problems with bilateral knee DJD have been well documented.  He had arthroscopy in the 1991/199two time frame for both of these.  He has been on long-standing conservative course for these including nonsteroidals, narcotics, injections.  At this point because of his progressive and persistent limitations he has opted for total joint surgery on the left side.  He does have other arthritic complaints including multiple back surgeries for spinal stenosis including decompression and epidural steroids.  Significant pain is handled by narcotic medication.  His attending physician is Dr. X.,PAST MEDICAL HISTORY: , Hypertension.,PRIOR SURGERIES:,1.  Inguinal hernia on the left.,2.  Baker's cyst.,3.  Colon cancer removal.,4.  Bilateral knee scopes.,5.  Right groin hernia.,6.  Low back surgery for spinal stenosis.,7.  Status post colon cancer second surgery.,MEDICATIONS:,1.  Ambien 12.5 mg nightly.,2.  Methadone 10 mg b.i.d.,3.  Lisinopril 10 mg daily.,IV MEDICATIONS FOR PAIN:  ,Demerol appears to work the best.,ALLERGIES: , Levaquin and Cipro cause rashes; ibuprofen causes his throat to swell, Fortaz causes an unknown reaction.,REVIEW OF SYSTEMS:  ,He does have paresthesias down into his thighs secondary to spinal stenosis.,SOCIAL HISTORY: , Married.  He is retired, being a Pepsi-Cola driver secondary to his back and knees.,HABITS: , No tobacco or alcohol.  Chewed until 2003.,RECREATIONAL PURSUITS:  ,Golfs, gardens, woodworks.,FAMILY HISTORY:,1.  Cancer.,2.  Coronary artery disease.,PHYSICAL EXAMINATION:,GENERAL APPEARANCE:  A pleasant, cooperative 57-year-old white male.,VITAL SIGNS:  Height 5' 9\", weight 167.  Blood pressure 148/86.  Pulse 78 per minute and regular.,HEENT:  Unremarkable.  Extraocular movements are full.  Cranial nerves II-XII intact.,NECK:  Supple.,CHEST:  Clear.,CARDIOVASCULAR:  Regular rhythm.  Normal S1 and 2.,ABDOMEN:  No organomegaly.  No tenderness.  Normal bowel sounds.,NEUROLOGIC:  Intact.,MUSCULOSKELETAL:  Left knee reveals a range of -10 degrees extension, 126 flexion.  His extensor mechanism is intact.  There is mild varus.  He has good stability at 30 degrees of flexion.  Lachman's and posterior drawer are negative.  He has good muscle turgor.  Dorsalis pedis pulse 2+.,DIAGNOSTICS:  ,X-rays revealed severe bilateral knee DJD with joint space narrowing medially as well as the patellofemoral joint with large osteophytes, left greater than right.,IMPRESSION:,1.  Bilateral knee degenerative joint disease.,2.  Significant back pain, status post lumbar stenosis surgery with pain being controlled on methadone 10 mg b.i.d.'''"
      ],
      "metadata": {
        "id": "q6KvKkZCupTA"
      },
      "execution_count": null,
      "outputs": []
    },
    {
      "cell_type": "code",
      "source": [
        "llm = ChatOpenAI(openai_api_key=TOKEN, model_name=\"gpt-3.5-turbo\", max_tokens=300, n=2, temperature=0)"
      ],
      "metadata": {
        "id": "D2HQ2FOlvPKO"
      },
      "execution_count": null,
      "outputs": []
    },
    {
      "cell_type": "code",
      "source": [
        "criteria_list = \"\"\"List all criterias for the clinical trial.\n",
        "After each point of the list write 'YES' if the patient is suitable for the criteria, or write 'NO' if the patient is not suitable for this criteria.  \n",
        "If there are all 'YES', print 'YES' in the end. If there is at least one 'NO', print 'NO'.\n",
        "\n",
        "Clinical Trial: {trial}.\n",
        "\n",
        "Medical Record: {record}\n",
        "\n",
        "Answer:\"\"\"\n",
        "PROMPT = PromptTemplate(\n",
        "    template=criteria_list, input_variables=['trial', 'record'])\n",
        "chain = LLMChain(llm=llm, prompt=PROMPT)"
      ],
      "metadata": {
        "id": "H-teIDR2u9MN"
      },
      "execution_count": null,
      "outputs": []
    },
    {
      "cell_type": "code",
      "source": [
        "print(chain.run({'trial': med_tr, 'record': med_rec}))"
      ],
      "metadata": {
        "colab": {
          "base_uri": "https://localhost:8080/"
        },
        "id": "97K4Do6tvxeU",
        "outputId": "00077e24-ef03-4cc9-d82e-196eed4b3e50"
      },
      "execution_count": null,
      "outputs": [
        {
          "output_type": "stream",
          "name": "stdout",
          "text": [
            "Inclusion Criteria:\n",
            "- Overweight: YES\n",
            "- Previous knee injury or surgery: YES\n",
            "- Knee pain during the past year: YES\n",
            "- Parent or sibling who had knee replacement: YES\n",
            "\n",
            "Exclusion Criteria:\n",
            "- Rheumatoid arthritis: YES\n",
            "- Joint replacements in both knees: YES\n",
            "- Unable to walk without assistance: NO\n",
            "- Unable to undergo MRI of the knee: NO\n",
            "\n",
            "Overall: YES\n"
          ]
        }
      ]
    },
    {
      "cell_type": "markdown",
      "source": [
        "Так как в промпте не указано, какой нам ответ нужен (только ДА или НЕТ), мы получаем список критериев с ответами.\n",
        "\n",
        "Т.к. список не однородный, то есть есть и включающие критерии, и исключающие, мы не можем оценивать общий ответ ДА или НЕТ, т.к. включающие критерии должны быть все ДА, а исключающие -- все НЕТ."
      ],
      "metadata": {
        "id": "7TcwC0rE7mt3"
      }
    },
    {
      "cell_type": "markdown",
      "source": [
        "Ограничим способности модели к генерации новой информации за счет предложений *Print only 'YES' or 'NO' for the overall score. Do not print anything else.* и ограничения токенов до 2."
      ],
      "metadata": {
        "id": "nIoJCbux77Wf"
      }
    },
    {
      "cell_type": "code",
      "source": [
        "llm2 = ChatOpenAI(openai_api_key=TOKEN, model_name=\"gpt-3.5-turbo\", max_tokens=2, n=2)"
      ],
      "metadata": {
        "id": "msDocaNBwiYm"
      },
      "execution_count": null,
      "outputs": []
    },
    {
      "cell_type": "code",
      "source": [
        "criteria_list = \"\"\"Get all criterias for the clinical trial.\n",
        "Tag each point of the list as 'YES' if the patient is suitable for the criteria, or tag it as 'NO' if the patient is not suitable for this criteria.  \n",
        "If there are all 'YES', print 'YES'. If there is at least one 'NO', print 'NO'.\n",
        "Print only 'YES' or 'NO' for the overall score. Do not print anything else.\n",
        "\n",
        "Clinical Trial: {trial}.\n",
        "\n",
        "Medical Record: {record}\n",
        "\n",
        "Answer:\"\"\"\n",
        "PROMPT = PromptTemplate(\n",
        "    template=criteria_list, input_variables=['trial', 'record'])\n",
        "chain = LLMChain(llm=llm2, prompt=PROMPT)"
      ],
      "metadata": {
        "id": "NzfockbTwPPY"
      },
      "execution_count": null,
      "outputs": []
    },
    {
      "cell_type": "code",
      "source": [
        "print(chain.run({'trial': med_tr, 'record': med_rec}))"
      ],
      "metadata": {
        "colab": {
          "base_uri": "https://localhost:8080/"
        },
        "id": "os6RHxkRwnz4",
        "outputId": "cfc6843a-e420-418f-fdde-5c46d999c5b7"
      },
      "execution_count": null,
      "outputs": [
        {
          "output_type": "stream",
          "name": "stdout",
          "text": [
            "- Over\n"
          ]
        }
      ]
    },
    {
      "cell_type": "markdown",
      "source": [
        "Похоже, что модель начала ответ с *Overall*, но ей не хватило количества токенов."
      ],
      "metadata": {
        "id": "RflKAjfe8JgH"
      }
    },
    {
      "cell_type": "markdown",
      "source": [
        "## Цепочка промптов"
      ],
      "metadata": {
        "id": "HnNuesmb1W0y"
      }
    },
    {
      "cell_type": "markdown",
      "source": [
        "Разделим большую задачу оценивания сопоставимости медицинских записей и указанных критериев на три подзадачи:\n",
        "\n",
        "\n",
        "\n",
        "*   Разделение текста критериев исследования на список.\n",
        "*   Оценивание соответствия пациента каждому из критериев (каждому из подпунктов получившегося на предыдущем шаге списка)\n",
        "*   Общая оценка по результатам прошлого шага.\n",
        "\n",
        "Каждую задачу будет выполнять собственная модель с определенным промптом.\n",
        "\n",
        "\n",
        "\n"
      ],
      "metadata": {
        "id": "Cuhzs1CU8fOJ"
      }
    },
    {
      "cell_type": "markdown",
      "source": [
        "Тестовые тексты критериев и записи:"
      ],
      "metadata": {
        "id": "bfuDplQ29KJi"
      }
    },
    {
      "cell_type": "code",
      "source": [
        "med_tr = '''Inclusion Criteria: Must meet one of the following criteria: - Overweight - Previous knee injury or surgery - Knee pain during the past year. Participants do not need to have current knee pain to take part in the study. - Parent or sibling who had knee replacement Exclusion Criteria: - Rheumatoid arthritis - Joint replacements in both knees - Unable to walk without assistance - Unable to undergo MRI of the knee'''\n",
        "med_rec = '''CHIEF COMPLAINT: , Left knee pain and stiffness.,HISTORY OF PRESENT ILLNESS: , The patient is a 57-year-old with severe bilateral knee DJD, left greater than right, with significant pain and limitations because of both.  He is able to walk on his own.  Stairs are negotiated 1 at a time.  His problems with bilateral knee DJD have been well documented.  He had arthroscopy in the 1991/199two time frame for both of these.  He has been on long-standing conservative course for these including nonsteroidals, narcotics, injections.  At this point because of his progressive and persistent limitations he has opted for total joint surgery on the left side.  He does have other arthritic complaints including multiple back surgeries for spinal stenosis including decompression and epidural steroids.  Significant pain is handled by narcotic medication.  His attending physician is Dr. X.,PAST MEDICAL HISTORY: , Hypertension.,PRIOR SURGERIES:,1.  Inguinal hernia on the left.,2.  Baker's cyst.,3.  Colon cancer removal.,4.  Bilateral knee scopes.,5.  Right groin hernia.,6.  Low back surgery for spinal stenosis.,7.  Status post colon cancer second surgery.,MEDICATIONS:,1.  Ambien 12.5 mg nightly.,2.  Methadone 10 mg b.i.d.,3.  Lisinopril 10 mg daily.,IV MEDICATIONS FOR PAIN:  ,Demerol appears to work the best.,ALLERGIES: , Levaquin and Cipro cause rashes; ibuprofen causes his throat to swell, Fortaz causes an unknown reaction.,REVIEW OF SYSTEMS:  ,He does have paresthesias down into his thighs secondary to spinal stenosis.,SOCIAL HISTORY: , Married.  He is retired, being a Pepsi-Cola driver secondary to his back and knees.,HABITS: , No tobacco or alcohol.  Chewed until 2003.,RECREATIONAL PURSUITS:  ,Golfs, gardens, woodworks.,FAMILY HISTORY:,1.  Cancer.,2.  Coronary artery disease.,PHYSICAL EXAMINATION:,GENERAL APPEARANCE:  A pleasant, cooperative 57-year-old white male.,VITAL SIGNS:  Height 5' 9\", weight 167.  Blood pressure 148/86.  Pulse 78 per minute and regular.,HEENT:  Unremarkable.  Extraocular movements are full.  Cranial nerves II-XII intact.,NECK:  Supple.,CHEST:  Clear.,CARDIOVASCULAR:  Regular rhythm.  Normal S1 and 2.,ABDOMEN:  No organomegaly.  No tenderness.  Normal bowel sounds.,NEUROLOGIC:  Intact.,MUSCULOSKELETAL:  Left knee reveals a range of -10 degrees extension, 126 flexion.  His extensor mechanism is intact.  There is mild varus.  He has good stability at 30 degrees of flexion.  Lachman's and posterior drawer are negative.  He has good muscle turgor.  Dorsalis pedis pulse 2+.,DIAGNOSTICS:  ,X-rays revealed severe bilateral knee DJD with joint space narrowing medially as well as the patellofemoral joint with large osteophytes, left greater than right.,IMPRESSION:,1.  Bilateral knee degenerative joint disease.,2.  Significant back pain, status post lumbar stenosis surgery with pain being controlled on methadone 10 mg b.i.d.'''"
      ],
      "metadata": {
        "id": "MyHEUM60Zj7Z"
      },
      "execution_count": null,
      "outputs": []
    },
    {
      "cell_type": "markdown",
      "source": [
        "Промпт для определения списка критериев и работа данной модели на представленных текстовых примерах.\n",
        "\n",
        "Весь список необходимо унифицировать, чтобы не допускать возможности генерации новых формулировок текста моделью, потому как это может привести к ошибкам в выстроенном алгоритме:"
      ],
      "metadata": {
        "id": "ZpKhocQD9OEN"
      }
    },
    {
      "cell_type": "code",
      "source": [
        "llm1 = ChatOpenAI(openai_api_key=TOKEN, model_name=\"gpt-3.5-turbo\", max_tokens=1500, n=2)\n",
        "criteria_list = \"\"\"Print all criteria from the given clinical trial as one list with points. Start each point with 'Must'.\n",
        "Example:\n",
        "  - Must be between 15 and 25 years old.\n",
        "  - Must not have HIV.\n",
        "  - Must not be pregnant.\n",
        "\n",
        "\n",
        "Clinical Trial: {trial}.\n",
        "\n",
        "List of criteria:\"\"\"\n",
        "PROMPT1 = PromptTemplate(\n",
        "    template=criteria_list, input_variables=['trial'])\n",
        "chain = LLMChain(llm=llm1, prompt=PROMPT1, output_key='criteria_list')"
      ],
      "metadata": {
        "id": "wsXqv5pzZpuZ"
      },
      "execution_count": null,
      "outputs": []
    },
    {
      "cell_type": "code",
      "source": [
        "criteria = chain.run({'trial': med_tr})"
      ],
      "metadata": {
        "id": "pgq3SE2NZVnR"
      },
      "execution_count": null,
      "outputs": []
    },
    {
      "cell_type": "code",
      "source": [
        "print(criteria)"
      ],
      "metadata": {
        "colab": {
          "base_uri": "https://localhost:8080/"
        },
        "id": "666W057ZclQB",
        "outputId": "52be1b32-5f9a-4cf5-8494-54f650c3b5b8"
      },
      "execution_count": null,
      "outputs": [
        {
          "output_type": "stream",
          "name": "stdout",
          "text": [
            "- Must meet one of the following inclusion criteria: overweight, previous knee injury or surgery, knee pain during the past year, parent or sibling who had knee replacement\n",
            "- Must not have rheumatoid arthritis\n",
            "- Must not have joint replacements in both knees\n",
            "- Must be able to walk without assistance\n",
            "- Must be able to undergo MRI of the knee\n"
          ]
        }
      ]
    },
    {
      "cell_type": "markdown",
      "source": [
        "Промпт для оценивания каждого из пункта списка и пример работы на тестовых текстах.\n",
        "\n",
        "Для более точной оценки каждого из пунктов были составлены соответствующие правила, которые также ограничивают модель в ответе UNKNOWN (в случае, если модель не может получить из медицинской записи какую-либо информацию). Также в правилах опишем работу модели при перечислении критериев через союзы И/ИЛИ."
      ],
      "metadata": {
        "id": "E1asRCRw9XOr"
      }
    },
    {
      "cell_type": "code",
      "source": [
        "llm2 = ChatOpenAI(openai_api_key=TOKEN, model_name=\"gpt-3.5-turbo\", max_tokens=1500, n=1)\n",
        "yes_no_list = \"\"\"Given the medical record and the criteria list, for each criterion of the list print YES if the patient fits the criterion, or print NO if the patient does not fit the criterion.\n",
        "Follow these rules:\n",
        "  1. If any disease from the criterion is not mentioned in the medical record, the patient does not have it.\n",
        "  2. If the activity from the criterion is not mentioned in the medical record, the patient does not have any limitations to perform it.\n",
        "  3. If the point starts with 'Must', the patient must fall under the criterion.\n",
        "  4. If the point starts with 'Must not', the patient must fall under the criterion.\n",
        "  5. If the criterion lists some points with 'or', the patient must fall under at least one criterion from the list.\n",
        "  6. If the criterion lists some points with 'and', the patient must fall under all criteria from the list.\n",
        "\n",
        "Criteria List: {criteria_list}.\n",
        "Medical Record: {record}\n",
        "\n",
        "List of YES and NO:\"\"\"\n",
        "PROMPT2 = PromptTemplate(\n",
        "    template=yes_no_list, input_variables=['criteria_list', 'record'])\n",
        "chain2 = LLMChain(llm=llm2, prompt=PROMPT2, output_key='tagged_list')"
      ],
      "metadata": {
        "id": "T_0ew5xMaNaj"
      },
      "execution_count": null,
      "outputs": []
    },
    {
      "cell_type": "code",
      "source": [
        "yes_nos = chain2.run({'trial': criteria, 'record': med_rec})"
      ],
      "metadata": {
        "id": "wFHNRTRkcUBx"
      },
      "execution_count": null,
      "outputs": []
    },
    {
      "cell_type": "code",
      "source": [
        "print(yes_nos)"
      ],
      "metadata": {
        "colab": {
          "base_uri": "https://localhost:8080/"
        },
        "id": "TSIhDQ_zcfq0",
        "outputId": "0bb87ec0-eef2-44d5-a9db-6f92c0007242"
      },
      "execution_count": null,
      "outputs": [
        {
          "output_type": "stream",
          "name": "stdout",
          "text": [
            "- Must meet one of the following inclusion criteria: overweight, previous knee injury or surgery, knee pain during the past year, parent or sibling who had knee replacement - YES (previous knee injury or surgery, knee pain during the past year)\n",
            "- Must not have rheumatoid arthritis - YES\n",
            "- Must not have joint replacements in both knees - YES\n",
            "- Must be able to walk without assistance - YES\n",
            "- Must be able to undergo MRI of the knee. - YES\n"
          ]
        }
      ]
    },
    {
      "cell_type": "markdown",
      "source": [
        "Общая оценка по полученному списку:"
      ],
      "metadata": {
        "id": "cHgo2CJJ9lKz"
      }
    },
    {
      "cell_type": "code",
      "source": [
        "llm3 = ChatOpenAI(openai_api_key=TOKEN, model_name=\"gpt-3.5-turbo\", max_tokens=1, temperature=1)\n",
        "yes_no_answer = \"\"\"Read the criteria list with YES or NO tags.\n",
        "If the tags are all YES, print YES only. If there is at least one NO, print NO only.\n",
        "\n",
        "Criteria List: {tagged_list}\n",
        "\n",
        "Answer:\"\"\"\n",
        "PROMPT3 = PromptTemplate(\n",
        "    template=yes_no_answer, input_variables=['tagged_list'])\n",
        "chain3 = LLMChain(llm=llm3, prompt=PROMPT3, output_key='answer')"
      ],
      "metadata": {
        "id": "wgvqFcx0y62a"
      },
      "execution_count": null,
      "outputs": []
    },
    {
      "cell_type": "code",
      "source": [
        "answer = chain3.run({'list': yes_nos})"
      ],
      "metadata": {
        "id": "QO5QsvWVq5YG"
      },
      "execution_count": null,
      "outputs": []
    },
    {
      "cell_type": "code",
      "source": [
        "answer"
      ],
      "metadata": {
        "colab": {
          "base_uri": "https://localhost:8080/",
          "height": 36
        },
        "id": "YTyYH7CE0c-d",
        "outputId": "698e3631-d088-474b-8133-bb13df1005ba"
      },
      "execution_count": null,
      "outputs": [
        {
          "output_type": "execute_result",
          "data": {
            "text/plain": [
              "'YES'"
            ],
            "application/vnd.google.colaboratory.intrinsic+json": {
              "type": "string"
            }
          },
          "metadata": {},
          "execution_count": 83
        }
      ]
    },
    {
      "cell_type": "markdown",
      "source": [
        "Запишем в одну последовательную цепочку получившиеся промпты. Каждый элемент цепочки будет получать текст, созданный с помощью предыдущего промпта. \n",
        "\n",
        "После работы всей цепочки мы ожидаем один ответ: YES/NO."
      ],
      "metadata": {
        "id": "-U_5rGbp0hhm"
      }
    },
    {
      "cell_type": "code",
      "source": [
        "from langchain.chains import SequentialChain"
      ],
      "metadata": {
        "id": "cURURQNu14Ln"
      },
      "execution_count": null,
      "outputs": []
    },
    {
      "cell_type": "code",
      "source": [
        "overall_chain = SequentialChain(\n",
        "    chains=[chain, chain2, chain3],\n",
        "    input_variables=[\"trial\", \"record\"],\n",
        "    # Here we return our variable\n",
        "    output_variables=[\"answer\"])"
      ],
      "metadata": {
        "id": "ISmaX6dN1XRk"
      },
      "execution_count": null,
      "outputs": []
    },
    {
      "cell_type": "markdown",
      "source": [
        "Пример работы цепочки на представленных выше тестовых текстах:"
      ],
      "metadata": {
        "id": "ejzPxPuM98to"
      }
    },
    {
      "cell_type": "code",
      "source": [
        "result = overall_chain.run({'trial': med_tr, 'record': med_rec})"
      ],
      "metadata": {
        "id": "ndgT54U23icO"
      },
      "execution_count": null,
      "outputs": []
    },
    {
      "cell_type": "code",
      "source": [
        "print(result)"
      ],
      "metadata": {
        "colab": {
          "base_uri": "https://localhost:8080/"
        },
        "id": "3NPT-MNs3xdF",
        "outputId": "c1b7085e-4c01-4e0a-a4f9-3239bc5cd7c5"
      },
      "execution_count": null,
      "outputs": [
        {
          "output_type": "stream",
          "name": "stdout",
          "text": [
            "YES\n"
          ]
        }
      ]
    },
    {
      "cell_type": "markdown",
      "source": [
        "#Модели с предобработкой"
      ],
      "metadata": {
        "id": "XVXAuKiL-Xqc"
      }
    },
    {
      "cell_type": "markdown",
      "source": [
        "При работе с промптами обнаружились основные проблемы анализа текстов:\n",
        "\n",
        "*   Сложности в определении гендера пациента.\n",
        "*   Сложности в определении возрастного диапазона, указанного в критериях.\n",
        "\n",
        "Также были обнаружены разные метрики для записи роста и веса (американские и европейские стандарты), поэтому необходимо их унифицировать: перевести в килограммы и метры.\n",
        "\n",
        "\n"
      ],
      "metadata": {
        "id": "K7P6PxLM-JNc"
      }
    },
    {
      "cell_type": "markdown",
      "source": [
        "## Предварительная обработка + прямой вопрос"
      ],
      "metadata": {
        "id": "NTm41onCEWek"
      }
    },
    {
      "cell_type": "code",
      "source": [
        "med_tr = '''Inclusion Criteria: Must meet one of the following criteria: - Overweight - Previous knee injury or surgery - Knee pain during the past year. Participants do not need to have current knee pain to take part in the study. - Parent or sibling who had knee replacement Exclusion Criteria: - Rheumatoid arthritis - Joint replacements in both knees - Unable to walk without assistance - Unable to undergo MRI of the knee'''\n",
        "med_rec = '''CHIEF COMPLAINT: , Left knee pain and stiffness.,HISTORY OF PRESENT ILLNESS: , The patient is a 57-year-old with severe bilateral knee DJD, left greater than right, with significant pain and limitations because of both.  He is able to walk on his own.  Stairs are negotiated 1 at a time.  His problems with bilateral knee DJD have been well documented.  He had arthroscopy in the 1991/199two time frame for both of these.  He has been on long-standing conservative course for these including nonsteroidals, narcotics, injections.  At this point because of his progressive and persistent limitations he has opted for total joint surgery on the left side.  He does have other arthritic complaints including multiple back surgeries for spinal stenosis including decompression and epidural steroids.  Significant pain is handled by narcotic medication.  His attending physician is Dr. X.,PAST MEDICAL HISTORY: , Hypertension.,PRIOR SURGERIES:,1.  Inguinal hernia on the left.,2.  Baker's cyst.,3.  Colon cancer removal.,4.  Bilateral knee scopes.,5.  Right groin hernia.,6.  Low back surgery for spinal stenosis.,7.  Status post colon cancer second surgery.,MEDICATIONS:,1.  Ambien 12.5 mg nightly.,2.  Methadone 10 mg b.i.d.,3.  Lisinopril 10 mg daily.,IV MEDICATIONS FOR PAIN:  ,Demerol appears to work the best.,ALLERGIES: , Levaquin and Cipro cause rashes; ibuprofen causes his throat to swell, Fortaz causes an unknown reaction.,REVIEW OF SYSTEMS:  ,He does have paresthesias down into his thighs secondary to spinal stenosis.,SOCIAL HISTORY: , Married.  He is retired, being a Pepsi-Cola driver secondary to his back and knees.,HABITS: , No tobacco or alcohol.  Chewed until 2003.,RECREATIONAL PURSUITS:  ,Golfs, gardens, woodworks.,FAMILY HISTORY:,1.  Cancer.,2.  Coronary artery disease.,PHYSICAL EXAMINATION:,GENERAL APPEARANCE:  A pleasant, cooperative 57-year-old white male.,VITAL SIGNS:  Height 5' 9\", weight 167.  Blood pressure 148/86.  Pulse 78 per minute and regular.,HEENT:  Unremarkable.  Extraocular movements are full.  Cranial nerves II-XII intact.,NECK:  Supple.,CHEST:  Clear.,CARDIOVASCULAR:  Regular rhythm.  Normal S1 and 2.,ABDOMEN:  No organomegaly.  No tenderness.  Normal bowel sounds.,NEUROLOGIC:  Intact.,MUSCULOSKELETAL:  Left knee reveals a range of -10 degrees extension, 126 flexion.  His extensor mechanism is intact.  There is mild varus.  He has good stability at 30 degrees of flexion.  Lachman's and posterior drawer are negative.  He has good muscle turgor.  Dorsalis pedis pulse 2+.,DIAGNOSTICS:  ,X-rays revealed severe bilateral knee DJD with joint space narrowing medially as well as the patellofemoral joint with large osteophytes, left greater than right.,IMPRESSION:,1.  Bilateral knee degenerative joint disease.,2.  Significant back pain, status post lumbar stenosis surgery with pain being controlled on methadone 10 mg b.i.d.'''"
      ],
      "metadata": {
        "id": "V75uSECWCIFk"
      },
      "execution_count": null,
      "outputs": []
    },
    {
      "cell_type": "markdown",
      "source": [
        "### Обработка критериев"
      ],
      "metadata": {
        "id": "1SPBzkoC_BeA"
      }
    },
    {
      "cell_type": "markdown",
      "source": [
        "В текстах критериев были обозначены трудности в понимании возрастного диапазона при их указании как миинимальный/максимальный возраст, так что пропишем отдельные правила для их определения по схеме \"От X до Y лет\", где X - минимальный возраст, Y - максимальный.\n",
        "\n",
        "Гендерный критерий приведем к критерию по отбору по полу.\n",
        "\n",
        "Пропишем правила для перевода веса в килограммы и роста в метры.\n",
        "\n",
        "Ограничим возможность модели генерировать новую информацию правилом *Do not generate new information*, а также укажем, что каждое из указанных правил должно быть применено только в том случае, если указанный критерий есть в тексте."
      ],
      "metadata": {
        "id": "XGb56Mpm_TU6"
      }
    },
    {
      "cell_type": "code",
      "source": [
        "llm4 = ChatOpenAI(openai_api_key=TOKEN, model_name=\"gpt-3.5-turbo\", max_tokens=1500, n=2)\n",
        "trial_preprocess = \"\"\"Rewrite and print the clinical trial text following the next rules:\n",
        "1. If there is an age criterion:\n",
        "1.1 If there is a minimum and maximum age, rewrite the age criterion as 'Age: x-y years old', where x is the minimum age and y is the maximum age.\n",
        "1.2 If there is no minimum age, rewrite the age criterion as 'Age: 0-x years old', where x is the maximum age.\n",
        "1.3 If there is no maximum age, rewrite the age criterion as 'Age: x and older', where x is the minimum age\n",
        "2. If there is a gender criterion, rename gender criterion to sex criterion.\n",
        "3. If there is a weight criterion, convert weight to kilograms.\n",
        "4. If there is a height criterion, convert height to meters.\n",
        "5. Do not generate new information.\n",
        "\n",
        "Clinical Trial Text: {trial}\n",
        "Result:\"\"\"\n",
        "PROMPT4 = PromptTemplate(\n",
        "    template=trial_preprocess, input_variables=['trial'])\n",
        "chain4 = LLMChain(llm=llm4, prompt=PROMPT4, output_key='preprocessed_trial')"
      ],
      "metadata": {
        "id": "NWBQbti6EbZM"
      },
      "execution_count": null,
      "outputs": []
    },
    {
      "cell_type": "markdown",
      "source": [
        "Пример работы промпта на тексте, указанном в предыдущем блоке:"
      ],
      "metadata": {
        "id": "6QPeaCt_AEVA"
      }
    },
    {
      "cell_type": "code",
      "source": [
        "trial_text = chain4.run({'trial': med_tr})"
      ],
      "metadata": {
        "id": "UJWQMfu79zf5"
      },
      "execution_count": null,
      "outputs": []
    },
    {
      "cell_type": "code",
      "source": [
        "trial_text"
      ],
      "metadata": {
        "colab": {
          "base_uri": "https://localhost:8080/",
          "height": 88
        },
        "id": "nhPA99Y1-5DW",
        "outputId": "2065ad4f-e20b-4ac1-ffb0-7847c262572c"
      },
      "execution_count": null,
      "outputs": [
        {
          "output_type": "execute_result",
          "data": {
            "text/plain": [
              "'Inclusion Criteria: Must meet one of the following criteria: \\n- Overweight \\n- Previous knee injury or surgery \\n- Knee pain during the past year. Participants do not need to have current knee pain to take part in the study. \\n- Parent or sibling who had knee replacement \\n\\nAge: Not specified \\nSex criterion: Not specified \\nWeight criterion: Not specified \\nHeight criterion: Not specified \\n\\nExclusion Criteria: \\n- Rheumatoid arthritis \\n- Joint replacements in both knees \\n- Unable to walk without assistance \\n- Unable to undergo MRI of the knee'"
            ],
            "application/vnd.google.colaboratory.intrinsic+json": {
              "type": "string"
            }
          },
          "metadata": {},
          "execution_count": 99
        }
      ]
    },
    {
      "cell_type": "markdown",
      "source": [
        "Пример работы промпта без ограничения генерации новой информации на тексте, указанном в предыдущем блоке. Некоторая информация была придумана моделью.\n",
        "\n",
        "(исходная формулировка промпта была перезаписана)"
      ],
      "metadata": {
        "id": "BI62d5FaAC9z"
      }
    },
    {
      "cell_type": "code",
      "source": [
        "#без условий \"if there is...\""
      ],
      "metadata": {
        "colab": {
          "base_uri": "https://localhost:8080/",
          "height": 105
        },
        "outputId": "e3c84afa-8995-4e1c-aa33-702fdef413d3",
        "id": "WaRMZgdRBu9a"
      },
      "execution_count": null,
      "outputs": [
        {
          "output_type": "execute_result",
          "data": {
            "text/plain": [
              "'Inclusion Criteria: Must meet one of the following criteria: \\n- Overweight \\n- Previous knee injury or surgery \\n- Knee pain during the past year. Participants do not need to have current knee pain to take part in the study. \\n- Parent or sibling who had knee replacement \\n\\nSex: Both males and females \\n\\nAge: 18 and older \\n\\nWeight: Participants must have a body mass index (BMI) greater than or equal to 25 kg/m² \\n\\nHeight: Participants must be at least 1.50 meters tall \\n\\nExclusion Criteria: \\n- Rheumatoid arthritis \\n- Joint replacements in both knees \\n- Unable to walk without assistance \\n- Unable to undergo MRI of the knee'"
            ],
            "application/vnd.google.colaboratory.intrinsic+json": {
              "type": "string"
            }
          },
          "metadata": {},
          "execution_count": 96
        }
      ]
    },
    {
      "cell_type": "markdown",
      "source": [
        "### Обработка записи"
      ],
      "metadata": {
        "id": "xUrTot3__Qb8"
      }
    },
    {
      "cell_type": "markdown",
      "source": [
        "Обработка записи не нуждается в изменении информации о гендере и возрасте, так что оставим только правила перевода веса и роста."
      ],
      "metadata": {
        "id": "AoDEnipXB1E1"
      }
    },
    {
      "cell_type": "code",
      "source": [
        "llm5 = ChatOpenAI(openai_api_key=TOKEN, model_name=\"gpt-3.5-turbo\", max_tokens=1500, n=2)\n",
        "record_preprocess = \"\"\"Rewrite and print the medical record text following the next rules:\n",
        "1. If the patient's weight is mentioned, convert weight to kilograms.\n",
        "2. If the patient's height is mentioned, convert height to meters.\n",
        "3. Do not generate new information.\n",
        "\n",
        "Medical Record Text: {record}\n",
        "Result:\"\"\"\n",
        "PROMPT5 = PromptTemplate(\n",
        "    template=record_preprocess, input_variables=['record'])\n",
        "chain5 = LLMChain(llm=llm5, prompt=PROMPT5, output_key='preprocessed_record')"
      ],
      "metadata": {
        "id": "X1_sX_iq_XCG"
      },
      "execution_count": null,
      "outputs": []
    },
    {
      "cell_type": "markdown",
      "source": [
        "Пример работы промпта на тексте, указанном в предыдущем блоке:"
      ],
      "metadata": {
        "id": "Q1AG5B9RB9mS"
      }
    },
    {
      "cell_type": "code",
      "source": [
        "record_text = chain5.run({'record': med_rec})"
      ],
      "metadata": {
        "id": "B6-HJCftACoC"
      },
      "execution_count": null,
      "outputs": []
    },
    {
      "cell_type": "code",
      "source": [
        "record_text"
      ],
      "metadata": {
        "colab": {
          "base_uri": "https://localhost:8080/",
          "height": 279
        },
        "id": "T7RYgaPWAK_D",
        "outputId": "89f465d9-4490-4234-d919-51194c2eaf6a"
      },
      "execution_count": null,
      "outputs": [
        {
          "output_type": "execute_result",
          "data": {
            "text/plain": [
              "\"CHIEF COMPLAINT: Left knee pain and stiffness.\\n\\nHISTORY OF PRESENT ILLNESS: The patient is a 57-year-old with severe bilateral knee DJD, left greater than right, with significant pain and limitations because of both. He is able to walk on his own. Stairs are negotiated 1 at a time. His problems with bilateral knee DJD have been well documented. He had arthroscopy in the 1991/199two time frame for both of these. He has been on long-standing conservative course for these including nonsteroidals, narcotics, injections. At this point because of his progressive and persistent limitations he has opted for total joint surgery on the left side. He does have other arthritic complaints including multiple back surgeries for spinal stenosis including decompression and epidural steroids. Significant pain is handled by narcotic medication. His attending physician is Dr. X.\\n\\nPAST MEDICAL HISTORY: Hypertension.\\n\\nPRIOR SURGERIES:\\n1. Inguinal hernia on the left.\\n2. Baker's cyst.\\n3. Colon cancer removal.\\n4. Bilateral knee scopes.\\n5. Right groin hernia.\\n6. Low back surgery for spinal stenosis.\\n7. Status post colon cancer second surgery.\\n\\nMEDICATIONS:\\n1. Ambien 12.5 mg nightly.\\n2. Methadone 10 mg b.i.d.\\n3. Lisinopril 10 mg daily.\\n\\nIV MEDICATIONS FOR PAIN: Demerol appears to work the best.\\n\\nALLERGIES: Levaquin and Cipro cause rashes; ibuprofen causes his throat to swell, Fortaz causes an unknown reaction.\\n\\nREVIEW OF SYSTEMS: He does have paresthesias down into his thighs secondary to spinal stenosis.\\n\\nSOCIAL HISTORY: Married. He is retired, being a Pepsi-Cola driver secondary to his back and knees.\\n\\nHABITS: No tobacco or alcohol. Chewed until 2003.\\n\\nRECREATIONAL PURSUITS: Golfs, gardens, woodworks.\\n\\nFAMILY HISTORY:\\n1. Cancer.\\n2. Coronary artery disease.\\n\\nPHYSICAL EXAMINATION:\\nGENERAL APPEARANCE: A pleasant, cooperative 57-year-old white male.\\n\\nVITAL SIGNS: Height 1.75 meters, weight 75.75 kilograms. Blood pressure 148/86. Pulse 78 per minute and regular.\\n\\nHEENT: Unremark\""
            ],
            "application/vnd.google.colaboratory.intrinsic+json": {
              "type": "string"
            }
          },
          "metadata": {},
          "execution_count": 102
        }
      ]
    },
    {
      "cell_type": "markdown",
      "source": [
        "### Получение цепочки\n",
        "\n",
        "\n",
        "\n"
      ],
      "metadata": {
        "id": "7MOMZ1ZAAyCl"
      }
    },
    {
      "cell_type": "markdown",
      "source": [
        "Основной запрос к модели в данном промпте остается такой же, как и при простой модели с прямым запросом, однако на вход подаются тексты, предварительно обработанные соответствующими промптами. Таким образом, получается цепочка промптов."
      ],
      "metadata": {
        "id": "huD0WG38CZJ4"
      }
    },
    {
      "cell_type": "code",
      "source": [
        "strict_forward = \"\"\"Read the clinical trial criteria provided below. After that, decide by the patient's medical record if the patient is suitable for the trial. Answer YES or NO only.  \n",
        "\n",
        "Clinical Trial Criteria: {preprocessed_trial}\n",
        "\n",
        "Medical Record: {preprocessed_record}\n",
        "\n",
        "Answer:\"\"\"\n",
        "simplePROMPT = PromptTemplate(\n",
        "    template=strict_forward, input_variables=[\"preprocessed_trial\", \"preprocessed_record\"]\n",
        ")\n",
        "llm0 = ChatOpenAI(openai_api_key=TOKEN, model_name=\"gpt-3.5-turbo\", max_tokens=1, temperature=0)\n",
        "simple_chain = LLMChain(llm=llm0, prompt=simplePROMPT, output_key='answer')"
      ],
      "metadata": {
        "id": "xMNw9xTGKKfr"
      },
      "execution_count": null,
      "outputs": []
    },
    {
      "cell_type": "code",
      "source": [
        "overall_simple = SequentialChain(\n",
        "    chains=[chain4, chain5, simple_chain],\n",
        "    input_variables=[\"trial\", \"record\"],\n",
        "    # Here we return our variable\n",
        "    output_variables=[\"answer\"])"
      ],
      "metadata": {
        "id": "gSIK4DI1Jhad"
      },
      "execution_count": null,
      "outputs": []
    },
    {
      "cell_type": "markdown",
      "source": [
        "## Предобработка + запрос по критериям"
      ],
      "metadata": {
        "id": "MkjtRCkc0c8y"
      }
    },
    {
      "cell_type": "markdown",
      "source": [
        "В случае со сложной моделью цепочки, в которой составляется список критериев, тексты обрабатываются теми же промптами, что указаны в предыдущем блоке, и затем обработанные тексты подаются в цепочку, описанную в блоке \"Запрос по критериям\""
      ],
      "metadata": {
        "id": "3NABjmFSDyZs"
      }
    },
    {
      "cell_type": "code",
      "source": [
        "llm4 = ChatOpenAI(openai_api_key=TOKEN, model_name=\"gpt-3.5-turbo\", max_tokens=1500, n=2)\n",
        "trial_preprocess = \"\"\"Rewrite and print the clinical trial text following the next rules:\n",
        "1. If there is an age criterion:\n",
        "1.1 If there is a minimum and maximum age, rewrite the age criterion as 'Age: x-y years old', where x is the minimum age and y is the maximum age.\n",
        "1.2 If there is no minimum age, rewrite the age criterion as 'Age: 0-x years old', where x is the maximum age.\n",
        "1.3 If there is no maximum age, rewrite the age criterion as 'Age: x and older', where x is the minimum age\n",
        "2. If there is a gender criterion, rename gender criterion to sex criterion.\n",
        "3. If there is a weight criterion, convert weight to kilograms.\n",
        "4. If there is a height criterion, convert height to meters.\n",
        "5. Do not generate new information.\n",
        "\n",
        "Clinical Trial Text: {trial}\n",
        "Result:\"\"\"\n",
        "PROMPT4 = PromptTemplate(\n",
        "    template=trial_preprocess, input_variables=['trial'])\n",
        "chain4 = LLMChain(llm=llm4, prompt=PROMPT4, output_key='preprocessed_trial')"
      ],
      "metadata": {
        "id": "SZGXZSxFuWk4"
      },
      "execution_count": null,
      "outputs": []
    },
    {
      "cell_type": "code",
      "source": [
        "llm5 = ChatOpenAI(openai_api_key=TOKEN, model_name=\"gpt-3.5-turbo\", max_tokens=1500, n=2)\n",
        "record_preprocess = \"\"\"Rewrite and print the medical record text following the next rules:\n",
        "1. If the patient's weight is mentioned, convert weight to kilograms.\n",
        "2. If the patient's height is mentioned, convert height to meters.\n",
        "3. Do not generate new information.\n",
        "\n",
        "Medical Record Text: {record}\n",
        "Result:\"\"\"\n",
        "PROMPT5 = PromptTemplate(\n",
        "    template=record_preprocess, input_variables=['record'])\n",
        "chain5 = LLMChain(llm=llm5, prompt=PROMPT5, output_key='preprocessed_record')"
      ],
      "metadata": {
        "id": "Rny74XWFuZJD"
      },
      "execution_count": null,
      "outputs": []
    },
    {
      "cell_type": "code",
      "source": [
        "llm1 = ChatOpenAI(openai_api_key=TOKEN, model_name=\"gpt-3.5-turbo\", max_tokens=1500, n=2)\n",
        "criteria_list = \"\"\"Print all criteria for the given clinical trial as one list with points. Start each point with 'Must'.\n",
        "Example:\n",
        "  - Must be between 15 and 25 years old.\n",
        "  - Must not have HIV.\n",
        "  - Must not be pregnant.\n",
        "\n",
        "\n",
        "Clinical Trial: {preprocessed_trial}.\n",
        "\n",
        "List of criteria:\"\"\"\n",
        "PROMPT1 = PromptTemplate(\n",
        "    template=criteria_list, input_variables=['preprocessed_trial'])\n",
        "chain = LLMChain(llm=llm1, prompt=PROMPT1, output_key='criteria_list')"
      ],
      "metadata": {
        "id": "CJuMp111uOM7"
      },
      "execution_count": null,
      "outputs": []
    },
    {
      "cell_type": "code",
      "source": [
        "llm2 = ChatOpenAI(openai_api_key=TOKEN, model_name=\"gpt-3.5-turbo\", max_tokens=150, n=1)\n",
        "yes_no_list = \"\"\"Given the medical record and the criteria list, for each criterion of the list print YES if the patient is suitable for the criterion, or print NO if the patient is not suitable for the criterion.\n",
        "Follow these rules:\n",
        "  1. If any disease from the criterion is not mentioned in the medical record, the patient does not have it.\n",
        "  2. If the activity from the criterion is not mentioned in the medical record, the patient does not have any limitations to perform it. \n",
        "  3. If the point starts with 'Must', the patient must fall under the criterion.\n",
        "  4. If the point starts with 'Must not', the patient must fall under the criterion.\n",
        "  5. If the criterion lists some points with 'or', the patient must fall under at least one criterion from the list.\n",
        "  6. If the criterion lists some points with 'and', the patient must fall under all criteria from the list.\n",
        "\n",
        "Criteria List: {criteria_list}.\n",
        "Medical Record: {preprocessed_record}\n",
        "\n",
        "List of YES and NO:\"\"\"\n",
        "PROMPT2 = PromptTemplate(\n",
        "    template=yes_no_list, input_variables=['criteria_list', 'preprocessed_record'])\n",
        "chain2 = LLMChain(llm=llm2, prompt=PROMPT2, output_key='tagged_list')"
      ],
      "metadata": {
        "id": "xcBQEVGMuOM8"
      },
      "execution_count": null,
      "outputs": []
    },
    {
      "cell_type": "code",
      "source": [
        "llm3 = ChatOpenAI(openai_api_key=TOKEN, model_name=\"gpt-3.5-turbo\", max_tokens=1, n=1)\n",
        "yes_no_answer = \"\"\"Read the criteria list with YES or NO tags. \n",
        "If the tags are all YES, print YES only. If there is at least one NO, print NO only.\n",
        "\n",
        "Criteria List: {tagged_list}\n",
        "\n",
        "Answer:\"\"\"\n",
        "PROMPT3 = PromptTemplate(\n",
        "    template=yes_no_answer, input_variables=['tagged_list'])\n",
        "chain3 = LLMChain(llm=llm3, prompt=PROMPT3, output_key='answer')"
      ],
      "metadata": {
        "id": "tSobizOXuOM-"
      },
      "execution_count": null,
      "outputs": []
    },
    {
      "cell_type": "code",
      "source": [
        "overall_chain_preprocessed = SequentialChain(\n",
        "    chains=[chain4, chain5, chain, chain2, chain3],\n",
        "    input_variables=[\"trial\", \"record\"],\n",
        "    # Here we return our variable\n",
        "    output_variables=[\"answer\"])"
      ],
      "metadata": {
        "id": "JUI_YfaeuOM_"
      },
      "execution_count": null,
      "outputs": []
    },
    {
      "cell_type": "markdown",
      "metadata": {
        "id": "JX9-YuUytt5A"
      },
      "source": [
        "# Тестирование на датасете"
      ]
    },
    {
      "cell_type": "markdown",
      "source": [
        "Проверим работу полученных моделей на датасете из текстов критериев исследований и медицинских записей, каждая пара которых оценена как YES/NO по критерию подходимости пациента из записи под указанные критерии"
      ],
      "metadata": {
        "id": "CXZ1F7VtJXhh"
      }
    },
    {
      "cell_type": "code",
      "execution_count": null,
      "metadata": {
        "id": "PRfzXFxuttYz"
      },
      "outputs": [],
      "source": [
        "df = pd.read_excel('/content/drive/MyDrive/mag diplom/final dataset.xlsx')"
      ]
    },
    {
      "cell_type": "code",
      "source": [
        "df"
      ],
      "metadata": {
        "id": "BAutajbQyC5F",
        "colab": {
          "base_uri": "https://localhost:8080/",
          "height": 423
        },
        "outputId": "4d9884a6-f31a-40e1-9ba0-5deb12bcba44"
      },
      "execution_count": null,
      "outputs": [
        {
          "output_type": "execute_result",
          "data": {
            "text/plain": [
              "                                       Clinical Trial  \\\n",
              "0   DISEASE CHARACTERISTICS: \\n- Prior or current ...   \n",
              "1   DISEASE CHARACTERISTICS: \\n- Prior or current ...   \n",
              "2   DISEASE CHARACTERISTICS: \\n- Prior or current ...   \n",
              "3   DISEASE CHARACTERISTICS: \\n- Prior or current ...   \n",
              "4   DISEASE CHARACTERISTICS: \\n- Prior or current ...   \n",
              "..                                                ...   \n",
              "95  Inclusion Criteria:\\n\\n          -  Males and ...   \n",
              "96  Inclusion criteria\\n          -  Patients with...   \n",
              "97  Inclusion criteria\\n          -  Patients with...   \n",
              "98  Inclusion criteria\\n          -  Patients with...   \n",
              "99  Inclusion criteria\\n          -  Patients with...   \n",
              "\n",
              "                                       Medical Sample Suitability  \n",
              "0   HISTORY:  The patient is a 5-1/2-year-old with...          NO  \n",
              "1   INTERVAL HISTORY:, ABC who is 10 years of age ...          NO  \n",
              "2   DIAGNOSIS: , T1 N3 M0 cancer of the nasopharyn...          NO  \n",
              "3   The patient states that she has been doing fai...          NO  \n",
              "4   HISTORY: , The patient is a 15-year-old female...          NO  \n",
              "..                                                ...         ...  \n",
              "95  SUBJECTIVE:  10-year old male. School reports ...         YES  \n",
              "96  HISTORY:,  The patient, female, 53 years-old, ...         YES  \n",
              "97  INDICATIONS:  ,Chest pain, hypertension, type ...         YES  \n",
              "98  HISTORY OF PRESENT ILLNESS: , The patient is a...         YES  \n",
              "99  CHIEF COMPLAINT:, Followup on type II diabetes...         YES  \n",
              "\n",
              "[100 rows x 3 columns]"
            ],
            "text/html": [
              "\n",
              "  <div id=\"df-4ef4c396-3cfa-4d5f-a3f3-80609bd7c7ab\">\n",
              "    <div class=\"colab-df-container\">\n",
              "      <div>\n",
              "<style scoped>\n",
              "    .dataframe tbody tr th:only-of-type {\n",
              "        vertical-align: middle;\n",
              "    }\n",
              "\n",
              "    .dataframe tbody tr th {\n",
              "        vertical-align: top;\n",
              "    }\n",
              "\n",
              "    .dataframe thead th {\n",
              "        text-align: right;\n",
              "    }\n",
              "</style>\n",
              "<table border=\"1\" class=\"dataframe\">\n",
              "  <thead>\n",
              "    <tr style=\"text-align: right;\">\n",
              "      <th></th>\n",
              "      <th>Clinical Trial</th>\n",
              "      <th>Medical Sample</th>\n",
              "      <th>Suitability</th>\n",
              "    </tr>\n",
              "  </thead>\n",
              "  <tbody>\n",
              "    <tr>\n",
              "      <th>0</th>\n",
              "      <td>DISEASE CHARACTERISTICS: \\n- Prior or current ...</td>\n",
              "      <td>HISTORY:  The patient is a 5-1/2-year-old with...</td>\n",
              "      <td>NO</td>\n",
              "    </tr>\n",
              "    <tr>\n",
              "      <th>1</th>\n",
              "      <td>DISEASE CHARACTERISTICS: \\n- Prior or current ...</td>\n",
              "      <td>INTERVAL HISTORY:, ABC who is 10 years of age ...</td>\n",
              "      <td>NO</td>\n",
              "    </tr>\n",
              "    <tr>\n",
              "      <th>2</th>\n",
              "      <td>DISEASE CHARACTERISTICS: \\n- Prior or current ...</td>\n",
              "      <td>DIAGNOSIS: , T1 N3 M0 cancer of the nasopharyn...</td>\n",
              "      <td>NO</td>\n",
              "    </tr>\n",
              "    <tr>\n",
              "      <th>3</th>\n",
              "      <td>DISEASE CHARACTERISTICS: \\n- Prior or current ...</td>\n",
              "      <td>The patient states that she has been doing fai...</td>\n",
              "      <td>NO</td>\n",
              "    </tr>\n",
              "    <tr>\n",
              "      <th>4</th>\n",
              "      <td>DISEASE CHARACTERISTICS: \\n- Prior or current ...</td>\n",
              "      <td>HISTORY: , The patient is a 15-year-old female...</td>\n",
              "      <td>NO</td>\n",
              "    </tr>\n",
              "    <tr>\n",
              "      <th>...</th>\n",
              "      <td>...</td>\n",
              "      <td>...</td>\n",
              "      <td>...</td>\n",
              "    </tr>\n",
              "    <tr>\n",
              "      <th>95</th>\n",
              "      <td>Inclusion Criteria:\\n\\n          -  Males and ...</td>\n",
              "      <td>SUBJECTIVE:  10-year old male. School reports ...</td>\n",
              "      <td>YES</td>\n",
              "    </tr>\n",
              "    <tr>\n",
              "      <th>96</th>\n",
              "      <td>Inclusion criteria\\n          -  Patients with...</td>\n",
              "      <td>HISTORY:,  The patient, female, 53 years-old, ...</td>\n",
              "      <td>YES</td>\n",
              "    </tr>\n",
              "    <tr>\n",
              "      <th>97</th>\n",
              "      <td>Inclusion criteria\\n          -  Patients with...</td>\n",
              "      <td>INDICATIONS:  ,Chest pain, hypertension, type ...</td>\n",
              "      <td>YES</td>\n",
              "    </tr>\n",
              "    <tr>\n",
              "      <th>98</th>\n",
              "      <td>Inclusion criteria\\n          -  Patients with...</td>\n",
              "      <td>HISTORY OF PRESENT ILLNESS: , The patient is a...</td>\n",
              "      <td>YES</td>\n",
              "    </tr>\n",
              "    <tr>\n",
              "      <th>99</th>\n",
              "      <td>Inclusion criteria\\n          -  Patients with...</td>\n",
              "      <td>CHIEF COMPLAINT:, Followup on type II diabetes...</td>\n",
              "      <td>YES</td>\n",
              "    </tr>\n",
              "  </tbody>\n",
              "</table>\n",
              "<p>100 rows × 3 columns</p>\n",
              "</div>\n",
              "      <button class=\"colab-df-convert\" onclick=\"convertToInteractive('df-4ef4c396-3cfa-4d5f-a3f3-80609bd7c7ab')\"\n",
              "              title=\"Convert this dataframe to an interactive table.\"\n",
              "              style=\"display:none;\">\n",
              "        \n",
              "  <svg xmlns=\"http://www.w3.org/2000/svg\" height=\"24px\"viewBox=\"0 0 24 24\"\n",
              "       width=\"24px\">\n",
              "    <path d=\"M0 0h24v24H0V0z\" fill=\"none\"/>\n",
              "    <path d=\"M18.56 5.44l.94 2.06.94-2.06 2.06-.94-2.06-.94-.94-2.06-.94 2.06-2.06.94zm-11 1L8.5 8.5l.94-2.06 2.06-.94-2.06-.94L8.5 2.5l-.94 2.06-2.06.94zm10 10l.94 2.06.94-2.06 2.06-.94-2.06-.94-.94-2.06-.94 2.06-2.06.94z\"/><path d=\"M17.41 7.96l-1.37-1.37c-.4-.4-.92-.59-1.43-.59-.52 0-1.04.2-1.43.59L10.3 9.45l-7.72 7.72c-.78.78-.78 2.05 0 2.83L4 21.41c.39.39.9.59 1.41.59.51 0 1.02-.2 1.41-.59l7.78-7.78 2.81-2.81c.8-.78.8-2.07 0-2.86zM5.41 20L4 18.59l7.72-7.72 1.47 1.35L5.41 20z\"/>\n",
              "  </svg>\n",
              "      </button>\n",
              "      \n",
              "  <style>\n",
              "    .colab-df-container {\n",
              "      display:flex;\n",
              "      flex-wrap:wrap;\n",
              "      gap: 12px;\n",
              "    }\n",
              "\n",
              "    .colab-df-convert {\n",
              "      background-color: #E8F0FE;\n",
              "      border: none;\n",
              "      border-radius: 50%;\n",
              "      cursor: pointer;\n",
              "      display: none;\n",
              "      fill: #1967D2;\n",
              "      height: 32px;\n",
              "      padding: 0 0 0 0;\n",
              "      width: 32px;\n",
              "    }\n",
              "\n",
              "    .colab-df-convert:hover {\n",
              "      background-color: #E2EBFA;\n",
              "      box-shadow: 0px 1px 2px rgba(60, 64, 67, 0.3), 0px 1px 3px 1px rgba(60, 64, 67, 0.15);\n",
              "      fill: #174EA6;\n",
              "    }\n",
              "\n",
              "    [theme=dark] .colab-df-convert {\n",
              "      background-color: #3B4455;\n",
              "      fill: #D2E3FC;\n",
              "    }\n",
              "\n",
              "    [theme=dark] .colab-df-convert:hover {\n",
              "      background-color: #434B5C;\n",
              "      box-shadow: 0px 1px 3px 1px rgba(0, 0, 0, 0.15);\n",
              "      filter: drop-shadow(0px 1px 2px rgba(0, 0, 0, 0.3));\n",
              "      fill: #FFFFFF;\n",
              "    }\n",
              "  </style>\n",
              "\n",
              "      <script>\n",
              "        const buttonEl =\n",
              "          document.querySelector('#df-4ef4c396-3cfa-4d5f-a3f3-80609bd7c7ab button.colab-df-convert');\n",
              "        buttonEl.style.display =\n",
              "          google.colab.kernel.accessAllowed ? 'block' : 'none';\n",
              "\n",
              "        async function convertToInteractive(key) {\n",
              "          const element = document.querySelector('#df-4ef4c396-3cfa-4d5f-a3f3-80609bd7c7ab');\n",
              "          const dataTable =\n",
              "            await google.colab.kernel.invokeFunction('convertToInteractive',\n",
              "                                                     [key], {});\n",
              "          if (!dataTable) return;\n",
              "\n",
              "          const docLinkHtml = 'Like what you see? Visit the ' +\n",
              "            '<a target=\"_blank\" href=https://colab.research.google.com/notebooks/data_table.ipynb>data table notebook</a>'\n",
              "            + ' to learn more about interactive tables.';\n",
              "          element.innerHTML = '';\n",
              "          dataTable['output_type'] = 'display_data';\n",
              "          await google.colab.output.renderOutput(dataTable, element);\n",
              "          const docLink = document.createElement('div');\n",
              "          docLink.innerHTML = docLinkHtml;\n",
              "          element.appendChild(docLink);\n",
              "        }\n",
              "      </script>\n",
              "    </div>\n",
              "  </div>\n",
              "  "
            ]
          },
          "metadata": {},
          "execution_count": 18
        }
      ]
    },
    {
      "cell_type": "markdown",
      "source": [
        "Датасет состоит из 100 вхождений, метки сбалансированы:"
      ],
      "metadata": {
        "id": "Um1TZDoQJmwy"
      }
    },
    {
      "cell_type": "code",
      "source": [
        "df.Suitability.value_counts()"
      ],
      "metadata": {
        "colab": {
          "base_uri": "https://localhost:8080/"
        },
        "id": "enQky0d5yDL8",
        "outputId": "60058d8b-9423-40a5-c78c-779e9f7a5883"
      },
      "execution_count": null,
      "outputs": [
        {
          "output_type": "execute_result",
          "data": {
            "text/plain": [
              "NO     50\n",
              "YES    50\n",
              "Name: Suitability, dtype: int64"
            ]
          },
          "metadata": {},
          "execution_count": 19
        }
      ]
    },
    {
      "cell_type": "markdown",
      "source": [
        "## Тестирование модели с прямым запросом"
      ],
      "metadata": {
        "id": "jOGW1S8W7aGL"
      }
    },
    {
      "cell_type": "code",
      "source": [
        "import time"
      ],
      "metadata": {
        "id": "koqqkVDYmGlX"
      },
      "execution_count": null,
      "outputs": []
    },
    {
      "cell_type": "markdown",
      "source": [
        "Из подобранных моделей в блоке \"Прямой запрос\" выберем следующую формулировку промпта:"
      ],
      "metadata": {
        "id": "MZmmeQR5Kmbv"
      }
    },
    {
      "cell_type": "code",
      "source": [
        "strict_forward = \"\"\"Read the clinical trial criteria provided below. After that, decide by the patient's medical record if the patient is suitable for the trial. Answer YES or NO only.  \n",
        "\n",
        "Clinical Trial Criteria: {trial}\n",
        "\n",
        "Medical Record: {record}\n",
        "\n",
        "Answer:\"\"\"\n",
        "PROMPT = PromptTemplate(\n",
        "    template=strict_forward, input_variables=[\"trial\", \"record\"]\n",
        ")"
      ],
      "metadata": {
        "id": "MThokF0oRXK6"
      },
      "execution_count": null,
      "outputs": []
    },
    {
      "cell_type": "code",
      "source": [
        "llm = ChatOpenAI(openai_api_key=TOKEN, model_name=\"gpt-3.5-turbo\", max_tokens=1, temperature=0)\n",
        "chain = LLMChain(llm=llm, prompt=PROMPT)"
      ],
      "metadata": {
        "id": "Bi3oZGrXlNhK"
      },
      "execution_count": null,
      "outputs": []
    },
    {
      "cell_type": "code",
      "source": [
        "y_pred = []"
      ],
      "metadata": {
        "id": "IHjwRivIlSD0"
      },
      "execution_count": null,
      "outputs": []
    },
    {
      "cell_type": "code",
      "source": [
        "for i in range(100):\n",
        "  answer = chain.run({'trial': df['Clinical Trial'][i], 'record': df['Medical Sample'][i]})\n",
        "  y_pred.append(answer)\n",
        "  time.sleep(50)\n"
      ],
      "metadata": {
        "id": "RfsRn_ZhkO2j"
      },
      "execution_count": null,
      "outputs": []
    },
    {
      "cell_type": "code",
      "source": [
        "len(y_pred)"
      ],
      "metadata": {
        "colab": {
          "base_uri": "https://localhost:8080/"
        },
        "id": "uSvsu5MRdrNl",
        "outputId": "a27bbc8a-d5e4-42d0-e299-8865851c1679"
      },
      "execution_count": null,
      "outputs": [
        {
          "output_type": "execute_result",
          "data": {
            "text/plain": [
              "100"
            ]
          },
          "metadata": {},
          "execution_count": 26
        }
      ]
    },
    {
      "cell_type": "code",
      "source": [
        "confusion_matrix(list(df['Suitability']), y_pred)"
      ],
      "metadata": {
        "colab": {
          "base_uri": "https://localhost:8080/"
        },
        "id": "KIRchafheJOD",
        "outputId": "b737b24b-ab43-4190-a64c-8b7d600833b0"
      },
      "execution_count": null,
      "outputs": [
        {
          "output_type": "execute_result",
          "data": {
            "text/plain": [
              "array([[ 0,  0,  0,  0],\n",
              "       [ 0,  0,  0,  0],\n",
              "       [ 1,  0, 42,  7],\n",
              "       [ 1,  1, 22, 26]])"
            ]
          },
          "metadata": {},
          "execution_count": 31
        }
      ]
    },
    {
      "cell_type": "markdown",
      "source": [
        "Так как в предсказанных метках присутствуют значения, отличные от YES и NO, заменим такие ответы на NO, чтобы не было возможных некорректных меток YES"
      ],
      "metadata": {
        "id": "1EU8Y_osJyUK"
      }
    },
    {
      "cell_type": "code",
      "source": [
        "y_changed_pred = []\n",
        "for i in y_pred:\n",
        "  if i != 'YES' and i != 'NO':\n",
        "    y_changed_pred.append('NO')\n",
        "  else:\n",
        "    y_changed_pred.append(i)"
      ],
      "metadata": {
        "id": "SSrKZX8HeUFZ"
      },
      "execution_count": null,
      "outputs": []
    },
    {
      "cell_type": "code",
      "source": [
        "tn, fp, fn, tp = confusion_matrix(df['Suitability'], y_changed_pred).ravel()\n",
        "(tn, fp, fn, tp)  "
      ],
      "metadata": {
        "colab": {
          "base_uri": "https://localhost:8080/"
        },
        "id": "HbDH8b7bfiRS",
        "outputId": "a4cdbda3-4875-4f21-f07e-4f5fe08a202a"
      },
      "execution_count": null,
      "outputs": [
        {
          "output_type": "execute_result",
          "data": {
            "text/plain": [
              "(43, 7, 24, 26)"
            ]
          },
          "metadata": {},
          "execution_count": 34
        }
      ]
    },
    {
      "cell_type": "code",
      "source": [
        "print(classification_report(df['Suitability'], y_changed_pred))"
      ],
      "metadata": {
        "colab": {
          "base_uri": "https://localhost:8080/"
        },
        "id": "PReSTh3HgCgz",
        "outputId": "712ccdfd-0d6e-4eff-9496-4ae5d2838841"
      },
      "execution_count": null,
      "outputs": [
        {
          "output_type": "stream",
          "name": "stdout",
          "text": [
            "              precision    recall  f1-score   support\n",
            "\n",
            "          NO       0.64      0.86      0.74        50\n",
            "         YES       0.79      0.52      0.63        50\n",
            "\n",
            "    accuracy                           0.69       100\n",
            "   macro avg       0.71      0.69      0.68       100\n",
            "weighted avg       0.71      0.69      0.68       100\n",
            "\n"
          ]
        }
      ]
    },
    {
      "cell_type": "markdown",
      "source": [
        "## Тестирование простой модели с предобработкой"
      ],
      "metadata": {
        "id": "s6jARdAGK3Yf"
      }
    },
    {
      "cell_type": "code",
      "source": [
        "y_pred_preproc = []"
      ],
      "metadata": {
        "id": "6JBFLqZZK3Yr"
      },
      "execution_count": null,
      "outputs": []
    },
    {
      "cell_type": "markdown",
      "source": [
        "Для тестирования была выбрана цепочка overall_simple, представленная в блоке \"Предварительная обработка + прямой запрос\""
      ],
      "metadata": {
        "id": "hLG4ZGk0KwRM"
      }
    },
    {
      "cell_type": "code",
      "source": [
        "for i in range(100):\n",
        "  answer = overall_simple.run({'trial': df['Clinical Trial'][i], 'record': df['Medical Sample'][i]})\n",
        "  y_pred_preproc.append(answer)\n",
        "  time.sleep(60)"
      ],
      "metadata": {
        "id": "MTlkWcSQK3Yr"
      },
      "execution_count": null,
      "outputs": []
    },
    {
      "cell_type": "code",
      "source": [
        "len(y_pred_preproc)"
      ],
      "metadata": {
        "colab": {
          "base_uri": "https://localhost:8080/"
        },
        "outputId": "02c8fa3a-e6a0-4bc5-8d05-dc94e8ff7718",
        "id": "-dy7f6FpK3Ys"
      },
      "execution_count": null,
      "outputs": [
        {
          "output_type": "execute_result",
          "data": {
            "text/plain": [
              "100"
            ]
          },
          "metadata": {},
          "execution_count": 89
        }
      ]
    },
    {
      "cell_type": "code",
      "source": [
        "y_changed_pred = []\n",
        "for i in y_pred_preproc:\n",
        "  if i != 'YES' and i != 'NO':\n",
        "    y_changed_pred.append('NO')\n",
        "  else:\n",
        "    y_changed_pred.append(i)"
      ],
      "metadata": {
        "id": "2S-RGvoxK3Yt"
      },
      "execution_count": null,
      "outputs": []
    },
    {
      "cell_type": "code",
      "source": [
        "tn, fp, fn, tp = confusion_matrix(df['Suitability'], y_changed_pred).ravel()\n",
        "(tn, fp, fn, tp) "
      ],
      "metadata": {
        "colab": {
          "base_uri": "https://localhost:8080/"
        },
        "outputId": "ba33b985-614f-4145-f58f-038eb892bb51",
        "id": "r8wnULh4K3Yt"
      },
      "execution_count": null,
      "outputs": [
        {
          "output_type": "execute_result",
          "data": {
            "text/plain": [
              "(42, 8, 27, 23)"
            ]
          },
          "metadata": {},
          "execution_count": 91
        }
      ]
    },
    {
      "cell_type": "code",
      "source": [
        "print(classification_report(df['Suitability'], y_changed_pred))"
      ],
      "metadata": {
        "colab": {
          "base_uri": "https://localhost:8080/"
        },
        "outputId": "0978aa76-9ba3-4948-8942-72481d696291",
        "id": "BhxF49FoK3Yt"
      },
      "execution_count": null,
      "outputs": [
        {
          "output_type": "stream",
          "name": "stdout",
          "text": [
            "              precision    recall  f1-score   support\n",
            "\n",
            "          NO       0.61      0.84      0.71        50\n",
            "         YES       0.74      0.46      0.57        50\n",
            "\n",
            "    accuracy                           0.65       100\n",
            "   macro avg       0.68      0.65      0.64       100\n",
            "weighted avg       0.68      0.65      0.64       100\n",
            "\n"
          ]
        }
      ]
    },
    {
      "cell_type": "markdown",
      "source": [
        "## Тестирование сложной модели"
      ],
      "metadata": {
        "id": "c3xhmAMGEA44"
      }
    },
    {
      "cell_type": "code",
      "source": [
        "import time"
      ],
      "metadata": {
        "id": "vCqUpCx0l19p"
      },
      "execution_count": null,
      "outputs": []
    },
    {
      "cell_type": "code",
      "source": [
        "y_pred_complex = []"
      ],
      "metadata": {
        "id": "RR_0CSTul37Y"
      },
      "execution_count": null,
      "outputs": []
    },
    {
      "cell_type": "markdown",
      "source": [
        "Для тестирования выберем модель overall_chain, представленную в блоке \"Запрос по критериям\":"
      ],
      "metadata": {
        "id": "2V1KdZ4VLOpa"
      }
    },
    {
      "cell_type": "code",
      "source": [
        "for i in range(100):\n",
        "  answer = overall_chain.run({'trial': df['Clinical Trial'][i], 'record': df['Medical Sample'][i]})\n",
        "  y_pred_complex.append(answer)\n",
        "  time.sleep(50)"
      ],
      "metadata": {
        "id": "xWJmPFl-l0a6"
      },
      "execution_count": null,
      "outputs": []
    },
    {
      "cell_type": "code",
      "source": [
        "len(y_pred_complex)"
      ],
      "metadata": {
        "colab": {
          "base_uri": "https://localhost:8080/"
        },
        "id": "93NZxmBwHv7z",
        "outputId": "d021918f-a316-4e4b-b77f-1cb2472713f8"
      },
      "execution_count": null,
      "outputs": [
        {
          "output_type": "execute_result",
          "data": {
            "text/plain": [
              "100"
            ]
          },
          "metadata": {},
          "execution_count": 39
        }
      ]
    },
    {
      "cell_type": "code",
      "source": [
        "y_changed_pred = []\n",
        "for i in y_pred_complex:\n",
        "  if i != 'YES' and i != 'NO':\n",
        "    y_changed_pred.append('NO')\n",
        "  else:\n",
        "    y_changed_pred.append(i)"
      ],
      "metadata": {
        "id": "QW0Xvce2IW_t"
      },
      "execution_count": null,
      "outputs": []
    },
    {
      "cell_type": "code",
      "source": [
        "tn, fp, fn, tp = confusion_matrix(df['Suitability'], y_changed_pred).ravel()\n",
        "(tn, fp, fn, tp)"
      ],
      "metadata": {
        "colab": {
          "base_uri": "https://localhost:8080/"
        },
        "id": "AOdoYK3ZIdJg",
        "outputId": "e3d26ce8-e76d-4069-94ea-d7ac199a7950"
      },
      "execution_count": null,
      "outputs": [
        {
          "output_type": "execute_result",
          "data": {
            "text/plain": [
              "(48, 2, 36, 14)"
            ]
          },
          "metadata": {},
          "execution_count": 45
        }
      ]
    },
    {
      "cell_type": "code",
      "source": [
        "print(classification_report(df['Suitability'], y_changed_pred))"
      ],
      "metadata": {
        "colab": {
          "base_uri": "https://localhost:8080/"
        },
        "id": "cJV8KhmsIeTe",
        "outputId": "bc90274e-ad0d-40c2-9fe3-e7181d53944e"
      },
      "execution_count": null,
      "outputs": [
        {
          "output_type": "stream",
          "name": "stdout",
          "text": [
            "              precision    recall  f1-score   support\n",
            "\n",
            "          NO       0.57      0.96      0.72        50\n",
            "         YES       0.88      0.28      0.42        50\n",
            "\n",
            "    accuracy                           0.62       100\n",
            "   macro avg       0.72      0.62      0.57       100\n",
            "weighted avg       0.72      0.62      0.57       100\n",
            "\n"
          ]
        }
      ]
    },
    {
      "cell_type": "markdown",
      "source": [
        "## Тестирование сложной модели с предобработкой"
      ],
      "metadata": {
        "id": "IpEkjB9Du-FT"
      }
    },
    {
      "cell_type": "code",
      "source": [
        "import time"
      ],
      "metadata": {
        "id": "bMr627rAu-Fd"
      },
      "execution_count": null,
      "outputs": []
    },
    {
      "cell_type": "code",
      "source": [
        "y_pred_complex_preproc = []"
      ],
      "metadata": {
        "id": "bGZTOfssu-Fe"
      },
      "execution_count": null,
      "outputs": []
    },
    {
      "cell_type": "markdown",
      "source": [
        "В качестве модели выберем цепочку overall_chain_preprocessed, представленную в блоке \"Предобработка + запрос по критериям\""
      ],
      "metadata": {
        "id": "CecoDutxLeoR"
      }
    },
    {
      "cell_type": "code",
      "source": [
        "for i in range(100):\n",
        "  answer = overall_chain_preprocessed.run({'trial': df['Clinical Trial'][i], 'record': df['Medical Sample'][i]})\n",
        "  y_pred_complex_preproc.append(answer)\n",
        "  time.sleep(60)"
      ],
      "metadata": {
        "id": "ZlBeEHi3u-Fe"
      },
      "execution_count": null,
      "outputs": []
    },
    {
      "cell_type": "code",
      "source": [
        "len(y_pred_complex_preproc)"
      ],
      "metadata": {
        "colab": {
          "base_uri": "https://localhost:8080/"
        },
        "outputId": "7d6617b8-a0cf-4d41-9fd5-b6264e3dff01",
        "id": "rrmpyjgdu-Ff"
      },
      "execution_count": null,
      "outputs": [
        {
          "output_type": "execute_result",
          "data": {
            "text/plain": [
              "100"
            ]
          },
          "metadata": {},
          "execution_count": 84
        }
      ]
    },
    {
      "cell_type": "code",
      "source": [
        "y_changed_pred = []\n",
        "for i in y_pred_complex_preproc:\n",
        "  if i != 'YES' and i != 'NO':\n",
        "    y_changed_pred.append('NO')\n",
        "  else:\n",
        "    y_changed_pred.append(i)"
      ],
      "metadata": {
        "id": "HSMa3swDu-Fg"
      },
      "execution_count": null,
      "outputs": []
    },
    {
      "cell_type": "code",
      "source": [
        "tn, fp, fn, tp = confusion_matrix(df['Suitability'], y_changed_pred).ravel()\n",
        "(tn, fp, fn, tp)"
      ],
      "metadata": {
        "colab": {
          "base_uri": "https://localhost:8080/"
        },
        "outputId": "f135881a-03d9-4492-cac1-fe76d640b746",
        "id": "7OwTZgNQu-Fg"
      },
      "execution_count": null,
      "outputs": [
        {
          "output_type": "execute_result",
          "data": {
            "text/plain": [
              "(47, 3, 31, 19)"
            ]
          },
          "metadata": {},
          "execution_count": 87
        }
      ]
    },
    {
      "cell_type": "code",
      "source": [
        "print(classification_report(df['Suitability'], y_changed_pred))"
      ],
      "metadata": {
        "colab": {
          "base_uri": "https://localhost:8080/"
        },
        "outputId": "c3f6b589-a404-4fe1-d67a-119fa4c94472",
        "id": "aauQJg2au-Fg"
      },
      "execution_count": null,
      "outputs": [
        {
          "output_type": "stream",
          "name": "stdout",
          "text": [
            "              precision    recall  f1-score   support\n",
            "\n",
            "          NO       0.60      0.94      0.73        50\n",
            "         YES       0.86      0.38      0.53        50\n",
            "\n",
            "    accuracy                           0.66       100\n",
            "   macro avg       0.73      0.66      0.63       100\n",
            "weighted avg       0.73      0.66      0.63       100\n",
            "\n"
          ]
        }
      ]
    },
    {
      "cell_type": "markdown",
      "source": [
        "## Голосование"
      ],
      "metadata": {
        "id": "uIIdcm7RCtfp"
      }
    },
    {
      "cell_type": "markdown",
      "source": [
        "В качестве пятой модели составим систему голосования, которая будет отбирать ответ исходя их ответов четырех представленных выше моделей. Если результат YES будет представлен более 50%, что в нашей случае составляет 3 или 4 раза, то итоговый ответ будет YES. Иначе -- NO.\n",
        "\n",
        "Так как мы уже имеем полученные ответы предыдущих моделей, поместим их в такую систему голосования."
      ],
      "metadata": {
        "id": "eS1E755aDBv1"
      }
    },
    {
      "cell_type": "code",
      "source": [
        "voting_system = []\n",
        "general = []\n",
        "for i in range(100):\n",
        "  general.append([y_pred[i], y_pred_preproc[i], y_pred_complex[i], y_pred_complex_preproc[i]])\n",
        "\n",
        "for k in general:\n",
        "  num = k.count('YES')\n",
        "  if num > 2:\n",
        "    voting_system.append('YES')\n",
        "  else:\n",
        "    voting_system.append('NO')"
      ],
      "metadata": {
        "id": "L__5CGTEaKSA"
      },
      "execution_count": null,
      "outputs": []
    },
    {
      "cell_type": "code",
      "source": [
        "voting_system"
      ],
      "metadata": {
        "id": "sGcLaPRza1rQ"
      },
      "execution_count": null,
      "outputs": []
    },
    {
      "cell_type": "code",
      "source": [
        "print(classification_report(df['Suitability'], voting_system))"
      ],
      "metadata": {
        "colab": {
          "base_uri": "https://localhost:8080/"
        },
        "id": "wvOv0aeqa3yw",
        "outputId": "8ae33fcf-0332-42c8-9d55-0e0bcd5fbd87"
      },
      "execution_count": null,
      "outputs": [
        {
          "output_type": "stream",
          "name": "stdout",
          "text": [
            "              precision    recall  f1-score   support\n",
            "\n",
            "          NO       0.59      0.98      0.74        50\n",
            "         YES       0.94      0.32      0.48        50\n",
            "\n",
            "    accuracy                           0.65       100\n",
            "   macro avg       0.77      0.65      0.61       100\n",
            "weighted avg       0.77      0.65      0.61       100\n",
            "\n"
          ]
        }
      ]
    },
    {
      "cell_type": "code",
      "source": [
        "tn, fp, fn, tp = confusion_matrix(df['Suitability'], voting_system).ravel()\n",
        "(tn, fp, fn, tp)"
      ],
      "metadata": {
        "colab": {
          "base_uri": "https://localhost:8080/"
        },
        "id": "q3O1oKSnncpw",
        "outputId": "ed82e280-4b59-441b-88e5-a169b44545c2"
      },
      "execution_count": null,
      "outputs": [
        {
          "output_type": "execute_result",
          "data": {
            "text/plain": [
              "(49, 1, 34, 16)"
            ]
          },
          "metadata": {},
          "execution_count": 83
        }
      ]
    },
    {
      "cell_type": "markdown",
      "source": [
        "# ROC-кривая"
      ],
      "metadata": {
        "id": "B6b3hsynoQ3A"
      }
    },
    {
      "cell_type": "markdown",
      "source": [
        "Чтобы оценить наиболее удачную модель, поместим их результаты на ROC-кривую, где ось X - False Positive Rate (FPR), ось Y - True Positive Rate (TPR), посчитанные по следующим формулам:\n",
        "\n",
        "TPR = TP/(TP+FN)\n",
        "\n",
        "FPR = FP/(FP+TN)"
      ],
      "metadata": {
        "id": "MLv4YfyKoUkX"
      }
    },
    {
      "cell_type": "code",
      "source": [
        "# Данные по самой простой модели\n",
        "(tn, fp, fn, tp) = (43, 7, 24, 26)\n",
        "simp_tpr = tp/(tp+fn) \n",
        "simp_fpr = fp/(fp+tn)\n",
        "print(simp_tpr, simp_fpr)"
      ],
      "metadata": {
        "colab": {
          "base_uri": "https://localhost:8080/"
        },
        "id": "Q2ixaaLboTh6",
        "outputId": "7edfe998-479a-4b10-93ed-3bf8099ad951"
      },
      "execution_count": null,
      "outputs": [
        {
          "output_type": "stream",
          "name": "stdout",
          "text": [
            "0.52 0.14\n"
          ]
        }
      ]
    },
    {
      "cell_type": "code",
      "source": [
        "#Данные по простой + препроцессинг\n",
        "(tn, fp, fn, tp) = (42, 8, 27, 23)\n",
        "simp_prep_tpr = tp/(tp+fn) \n",
        "simp_prep_fpr = fp/(fp+tn)\n",
        "print(simp_prep_tpr, simp_prep_fpr)"
      ],
      "metadata": {
        "colab": {
          "base_uri": "https://localhost:8080/"
        },
        "id": "hhVs3RS5qOPU",
        "outputId": "2d356eea-b031-4a08-e8bd-60d0b2b08d81"
      },
      "execution_count": null,
      "outputs": [
        {
          "output_type": "stream",
          "name": "stdout",
          "text": [
            "0.46 0.16\n"
          ]
        }
      ]
    },
    {
      "cell_type": "code",
      "source": [
        "#Данные по сложной \n",
        "(tn, fp, fn, tp) = (48, 2, 36, 14)\n",
        "complex_tpr = tp/(tp+fn) \n",
        "complex_fpr = fp/(fp+tn)\n",
        "print(complex_tpr, complex_fpr)"
      ],
      "metadata": {
        "colab": {
          "base_uri": "https://localhost:8080/"
        },
        "id": "oEHpGaDzq2Ef",
        "outputId": "c4ebd337-e114-43d2-d7bb-8c9aae42c8da"
      },
      "execution_count": null,
      "outputs": [
        {
          "output_type": "stream",
          "name": "stdout",
          "text": [
            "0.28 0.04\n"
          ]
        }
      ]
    },
    {
      "cell_type": "code",
      "source": [
        "#Данные по сложной + препроцессинг\n",
        "(tn, fp, fn, tp) = (47, 3, 31, 19)\n",
        "complex_prep_tpr = tp/(tp+fn) \n",
        "complex_prep_fpr = fp/(fp+tn)\n",
        "print(complex_prep_tpr, complex_prep_fpr)"
      ],
      "metadata": {
        "colab": {
          "base_uri": "https://localhost:8080/"
        },
        "id": "F_KvHbPaq4zt",
        "outputId": "188ed35a-674e-420f-8b5e-79aa4870bf90"
      },
      "execution_count": null,
      "outputs": [
        {
          "output_type": "stream",
          "name": "stdout",
          "text": [
            "0.38 0.06\n"
          ]
        }
      ]
    },
    {
      "cell_type": "code",
      "source": [
        "#Данные по голосованию\n",
        "(tn, fp, fn, tp) = (49, 1, 34, 16)\n",
        "voting_tpr = tp/(tp+fn) \n",
        "voting_fpr = fp/(fp+tn)\n",
        "print(voting_tpr, voting_fpr)"
      ],
      "metadata": {
        "colab": {
          "base_uri": "https://localhost:8080/"
        },
        "id": "c6fZwVeerAd5",
        "outputId": "6a66218e-15b9-4a3b-9b4e-d816962dffe9"
      },
      "execution_count": null,
      "outputs": [
        {
          "output_type": "stream",
          "name": "stdout",
          "text": [
            "0.32 0.02\n"
          ]
        }
      ]
    },
    {
      "cell_type": "code",
      "source": [
        "import matplotlib.pyplot as plt\n",
        "  \n",
        "# x axis values\n",
        "y = [ i * 100 for i in [simp_tpr, simp_prep_tpr, complex_tpr, complex_prep_tpr, voting_tpr]]\n",
        "# corresponding y axis values\n",
        "x = [ i * 100 for i in [simp_fpr, simp_prep_fpr, complex_fpr, complex_prep_fpr, voting_fpr]]\n",
        "label= ['simple', 'simple+preprocess', 'complex', 'complex+preprocess', 'voting']\n",
        "color=[\"green\", \"red\", \"blue\", \"pink\", \"orange\"]\n",
        "  \n",
        "\n",
        "plt.figure(figsize=(5,5))\n",
        "\n",
        "# plotting the points \n",
        "for i in range(5):\n",
        "  plt.scatter(x[i], y[i], label=label[i], color=color[i])\n",
        "  \n",
        "# setting x and y axis range\n",
        "plt.ylim(1, 55)\n",
        "plt.xlim(1, 55)\n",
        "  \n",
        "# naming the x axis\n",
        "plt.xlabel('FPR')\n",
        "# naming the y axis\n",
        "plt.ylabel('TPR')\n",
        "\n",
        "plt.legend()\n",
        "  \n",
        "# giving a title to my graph\n",
        "plt.title('ROC')\n",
        "  \n",
        "# function to show the plot\n",
        "plt.show()"
      ],
      "metadata": {
        "colab": {
          "base_uri": "https://localhost:8080/",
          "height": 487
        },
        "id": "AKkGPh4FsPMo",
        "outputId": "7a6d2fda-5deb-4b66-8a4f-0b6d8334081c"
      },
      "execution_count": null,
      "outputs": [
        {
          "output_type": "display_data",
          "data": {
            "text/plain": [
              "<Figure size 500x500 with 1 Axes>"
            ],
            "image/png": "[encoded data removed]"
          },
          "metadata": {}
        }
      ]
    },
    {
      "cell_type": "markdown",
      "source": [
        "Если оценивать модели по полученному графу, то наиболее успешной моделью кажется модель с простым запросов, указанная на графике зеленым цветом."
      ],
      "metadata": {
        "id": "PnuAsEJ9M3Hh"
      }
    }
  ],
  "metadata": {
    "colab": {
      "collapsed_sections": [
        "zhz4kEchLYWl",
        "MkjtRCkc0c8y",
        "JEXODH-JNCLo"
      ],
      "provenance": [],
      "toc_visible": true
    },
    "kernelspec": {
      "display_name": "Python 3",
      "name": "python3"
    },
    "language_info": {
      "name": "python"
    }
  },
  "nbformat": 4,
  "nbformat_minor": 0
}